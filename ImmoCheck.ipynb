{
 "cells": [
  {
   "cell_type": "markdown",
   "id": "702bdea7-1310-42f1-be73-0c2e35a44abd",
   "metadata": {},
   "source": [
    "# ImmoCheck"
   ]
  },
  {
   "cell_type": "markdown",
   "id": "b6af1b57-b3fd-440a-891c-d3f55763f392",
   "metadata": {},
   "source": [
    "Wir wollen den Vergleich aufstellen ob die Kaufpreise für Wohnungen (Preise pro m²) und die Einwohnerzahlen sich gleichermaßen verändert haben (Korrelation). \\\n",
    "Dafür begrenzen wir uns auf das Gebiet der Stadt Wien und den Zeitraum von 2015 bis 2023/'24. \\\n",
    "Wir beziehen unsere Daten von 3 Quellen:\n",
    "- Einwohnerzahlen 2015-2023 (Eurostat API)\n",
    "- Kaufpreise 2015-2022 (Statistik Austria ods Files)\n",
    "- Kaufpreise 2024 (Webscraping immobilionscout24.at) \n",
    "\n",
    "Jede Datenquelle wird für sich analyisiert und abschließend werden diese verglichen und aus den Ergebnissen Schlüsse gezogen.\n",
    "Let's get started!"
   ]
  },
  {
   "cell_type": "markdown",
   "id": "76e42bf8-c0b4-4ec9-8818-8f8d16ee5fcf",
   "metadata": {},
   "source": [
    "## Imports"
   ]
  },
  {
   "cell_type": "code",
   "execution_count": 1,
   "id": "648254db-eaee-408e-88b3-ecdd142e091e",
   "metadata": {
    "ExecuteTime": {
     "end_time": "2024-06-14T13:20:06.479992Z",
     "start_time": "2024-06-14T13:20:03.493521Z"
    }
   },
   "outputs": [],
   "source": [
    "import requests\n",
    "from bs4 import BeautifulSoup\n",
    "import pandas as pd\n",
    "from pyspark.sql import SparkSession\n",
    "from pyspark.sql.functions import max, median, round\n",
    "import pyspark \n",
    "import matplotlib.pyplot as plt\n",
    "import json"
   ]
  },
  {
   "cell_type": "code",
   "execution_count": 29,
   "id": "e0eeca0e-e977-453d-9d24-bf136aba24e4",
   "metadata": {},
   "outputs": [
    {
     "name": "stdout",
     "output_type": "stream",
     "text": [
      "Requirement already satisfied: pdfplumber in c:\\users\\benni\\anaconda3\\lib\\site-packages (0.11.0)\n",
      "Requirement already satisfied: pandas in c:\\users\\benni\\anaconda3\\lib\\site-packages (2.1.4)\n",
      "Requirement already satisfied: openpyxl in c:\\users\\benni\\anaconda3\\lib\\site-packages (3.0.10)\n",
      "Requirement already satisfied: odfpy in c:\\users\\benni\\anaconda3\\lib\\site-packages (1.4.1)\n",
      "Requirement already satisfied: pdfminer.six==20231228 in c:\\users\\benni\\anaconda3\\lib\\site-packages (from pdfplumber) (20231228)\n",
      "Requirement already satisfied: Pillow>=9.1 in c:\\users\\benni\\anaconda3\\lib\\site-packages (from pdfplumber) (10.2.0)\n",
      "Requirement already satisfied: pypdfium2>=4.18.0 in c:\\users\\benni\\anaconda3\\lib\\site-packages (from pdfplumber) (4.30.0)\n",
      "Requirement already satisfied: charset-normalizer>=2.0.0 in c:\\users\\benni\\anaconda3\\lib\\site-packages (from pdfminer.six==20231228->pdfplumber) (2.0.4)\n",
      "Requirement already satisfied: cryptography>=36.0.0 in c:\\users\\benni\\anaconda3\\lib\\site-packages (from pdfminer.six==20231228->pdfplumber) (42.0.2)\n",
      "Requirement already satisfied: numpy<2,>=1.23.2 in c:\\users\\benni\\anaconda3\\lib\\site-packages (from pandas) (1.26.4)\n",
      "Requirement already satisfied: python-dateutil>=2.8.2 in c:\\users\\benni\\anaconda3\\lib\\site-packages (from pandas) (2.8.2)\n",
      "Requirement already satisfied: pytz>=2020.1 in c:\\users\\benni\\anaconda3\\lib\\site-packages (from pandas) (2023.3.post1)\n",
      "Requirement already satisfied: tzdata>=2022.1 in c:\\users\\benni\\anaconda3\\lib\\site-packages (from pandas) (2023.3)\n",
      "Requirement already satisfied: et_xmlfile in c:\\users\\benni\\anaconda3\\lib\\site-packages (from openpyxl) (1.1.0)\n",
      "Requirement already satisfied: defusedxml in c:\\users\\benni\\anaconda3\\lib\\site-packages (from odfpy) (0.7.1)\n",
      "Requirement already satisfied: six>=1.5 in c:\\users\\benni\\anaconda3\\lib\\site-packages (from python-dateutil>=2.8.2->pandas) (1.16.0)\n",
      "Requirement already satisfied: cffi>=1.12 in c:\\users\\benni\\anaconda3\\lib\\site-packages (from cryptography>=36.0.0->pdfminer.six==20231228->pdfplumber) (1.16.0)\n",
      "Requirement already satisfied: pycparser in c:\\users\\benni\\anaconda3\\lib\\site-packages (from cffi>=1.12->cryptography>=36.0.0->pdfminer.six==20231228->pdfplumber) (2.21)\n"
     ]
    }
   ],
   "source": [
    "!pip install pdfplumber pandas openpyxl odfpy"
   ]
  },
  {
   "cell_type": "markdown",
   "id": "7fde09d7-6722-4f26-82dc-0fe097aaf63f",
   "metadata": {},
   "source": [
    "## Data Gathering"
   ]
  },
  {
   "cell_type": "markdown",
   "id": "94dacc13-386d-4b04-8060-8bb5bb91e73e",
   "metadata": {},
   "source": [
    "Jede Datenquelle wird hier für sich importiert (Load Data) und kurz analysiert (Analysis)."
   ]
  },
  {
   "cell_type": "markdown",
   "id": "f16cda68-d147-4f4f-a689-1b8d7e821dc2",
   "metadata": {},
   "source": [
    "### Webscarping - Current cost of real estate"
   ]
  },
  {
   "cell_type": "markdown",
   "id": "c546179e-786d-4b28-8270-ce1cda71fde4",
   "metadata": {},
   "source": [
    "#### Load Data"
   ]
  },
  {
   "cell_type": "markdown",
   "id": "0110f48c-b149-4b71-93d5-51f3fd035662",
   "metadata": {},
   "source": [
    "Um die derzeitigen Wohnungspreise pro m² zu bekommen, werden die Daten von \"Immobilienscout24.at\" gescraped."
   ]
  },
  {
   "cell_type": "code",
   "execution_count": 30,
   "id": "8b0b7ba5-dd2f-40ea-80b6-232cf7efa36f",
   "metadata": {
    "ExecuteTime": {
     "end_time": "2024-06-03T12:18:24.652598Z",
     "start_time": "2024-06-03T12:17:49.786298Z"
    }
   },
   "outputs": [
    {
     "name": "stdout",
     "output_type": "stream",
     "text": [
      "https://www.immobilienscout24.at/regional/wien/wien/wohnung-kaufen  scraped values: 13\n",
      "https://www.immobilienscout24.at/regional/wien/wien/wohnung-kaufen/seite-2  scraped values: 14\n",
      "https://www.immobilienscout24.at/regional/wien/wien/wohnung-kaufen/seite-3  scraped values: 13\n",
      "https://www.immobilienscout24.at/regional/wien/wien/wohnung-kaufen/seite-4  scraped values: 15\n",
      "https://www.immobilienscout24.at/regional/wien/wien/wohnung-kaufen/seite-5  scraped values: 15\n",
      "https://www.immobilienscout24.at/regional/wien/wien/wohnung-kaufen/seite-6  scraped values: 15\n",
      "https://www.immobilienscout24.at/regional/wien/wien/wohnung-kaufen/seite-7  scraped values: 14\n",
      "https://www.immobilienscout24.at/regional/wien/wien/wohnung-kaufen/seite-8  scraped values: 14\n",
      "https://www.immobilienscout24.at/regional/wien/wien/wohnung-kaufen/seite-9  scraped values: 15\n",
      "https://www.immobilienscout24.at/regional/wien/wien/wohnung-kaufen/seite-10  scraped values: 15\n",
      "https://www.immobilienscout24.at/regional/wien/wien/wohnung-kaufen/seite-11  scraped values: 15\n",
      "https://www.immobilienscout24.at/regional/wien/wien/wohnung-kaufen/seite-12  scraped values: 15\n",
      "https://www.immobilienscout24.at/regional/wien/wien/wohnung-kaufen/seite-13  scraped values: 14\n",
      "https://www.immobilienscout24.at/regional/wien/wien/wohnung-kaufen/seite-14  scraped values: 15\n",
      "https://www.immobilienscout24.at/regional/wien/wien/wohnung-kaufen/seite-15  scraped values: 13\n",
      "https://www.immobilienscout24.at/regional/wien/wien/wohnung-kaufen/seite-16  scraped values: 13\n",
      "https://www.immobilienscout24.at/regional/wien/wien/wohnung-kaufen/seite-17  scraped values: 11\n",
      "https://www.immobilienscout24.at/regional/wien/wien/wohnung-kaufen/seite-18  scraped values: 15\n",
      "https://www.immobilienscout24.at/regional/wien/wien/wohnung-kaufen/seite-19  scraped values: 15\n",
      "https://www.immobilienscout24.at/regional/wien/wien/wohnung-kaufen/seite-20  scraped values: 15\n",
      "https://www.immobilienscout24.at/regional/wien/wien/wohnung-kaufen/seite-21  scraped values: 15\n",
      "https://www.immobilienscout24.at/regional/wien/wien/wohnung-kaufen/seite-22  scraped values: 15\n",
      "https://www.immobilienscout24.at/regional/wien/wien/wohnung-kaufen/seite-23  scraped values: 14\n",
      "https://www.immobilienscout24.at/regional/wien/wien/wohnung-kaufen/seite-24  scraped values: 15\n",
      "https://www.immobilienscout24.at/regional/wien/wien/wohnung-kaufen/seite-25  scraped values: 15\n",
      "https://www.immobilienscout24.at/regional/wien/wien/wohnung-kaufen/seite-26  scraped values: 15\n",
      "https://www.immobilienscout24.at/regional/wien/wien/wohnung-kaufen/seite-27  scraped values: 15\n",
      "https://www.immobilienscout24.at/regional/wien/wien/wohnung-kaufen/seite-28  scraped values: 15\n",
      "https://www.immobilienscout24.at/regional/wien/wien/wohnung-kaufen/seite-29  scraped values: 15\n",
      "https://www.immobilienscout24.at/regional/wien/wien/wohnung-kaufen/seite-30  scraped values: 15\n",
      "https://www.immobilienscout24.at/regional/wien/wien/wohnung-kaufen/seite-31  scraped values: 13\n",
      "https://www.immobilienscout24.at/regional/wien/wien/wohnung-kaufen/seite-32  scraped values: 15\n",
      "https://www.immobilienscout24.at/regional/wien/wien/wohnung-kaufen/seite-33  scraped values: 14\n",
      "https://www.immobilienscout24.at/regional/wien/wien/wohnung-kaufen/seite-34  scraped values: 14\n",
      "https://www.immobilienscout24.at/regional/wien/wien/wohnung-kaufen/seite-35  scraped values: 15\n",
      "https://www.immobilienscout24.at/regional/wien/wien/wohnung-kaufen/seite-36  scraped values: 15\n",
      "https://www.immobilienscout24.at/regional/wien/wien/wohnung-kaufen/seite-37  scraped values: 15\n",
      "https://www.immobilienscout24.at/regional/wien/wien/wohnung-kaufen/seite-38  scraped values: 15\n",
      "https://www.immobilienscout24.at/regional/wien/wien/wohnung-kaufen/seite-39  scraped values: 15\n",
      "https://www.immobilienscout24.at/regional/wien/wien/wohnung-kaufen/seite-40  scraped values: 15\n",
      "https://www.immobilienscout24.at/regional/wien/wien/wohnung-kaufen/seite-41  scraped values: 15\n",
      "https://www.immobilienscout24.at/regional/wien/wien/wohnung-kaufen/seite-42  scraped values: 11\n"
     ]
    }
   ],
   "source": [
    "i = 1\n",
    "url = \"\"\n",
    "prices = []\n",
    "while True:\n",
    "    if i == 1:\n",
    "        url = 'https://www.immobilienscout24.at/regional/wien/wien/wohnung-kaufen'\n",
    "    else:\n",
    "        url = f'https://www.immobilienscout24.at/regional/wien/wien/wohnung-kaufen/seite-{i}'\n",
    "\n",
    "    r = requests.get(url)\n",
    "    soup = BeautifulSoup(r.text, 'html.parser')\n",
    "    postings = soup.find_all('li', {'class': 'Item-item-S33'})\n",
    "    i += 1\n",
    "    scraped_vals = 0\n",
    "    for ele in postings:\n",
    "        for ele2 in (ele.select('a > section > section:nth-of-type(2) > ul:nth-of-type(1) > li:nth-of-type(2)')):\n",
    "            prices.append(ele2.getText())\n",
    "            scraped_vals += 1\n",
    "    if postings == []:\n",
    "        break;\n",
    "\n",
    "    print(url,' scraped values:',scraped_vals)"
   ]
  },
  {
   "cell_type": "markdown",
   "id": "43324bc0-9482-452e-8e07-da0460a62d2a",
   "metadata": {},
   "source": [
    "Die gescrapten Werte werden in ein pandas DataFrame geladen."
   ]
  },
  {
   "cell_type": "code",
   "execution_count": 60,
   "id": "119d39b0-c19a-4baf-8469-a618c0f599e7",
   "metadata": {
    "ExecuteTime": {
     "end_time": "2024-06-03T12:19:01.206508Z",
     "start_time": "2024-06-03T12:19:01.161275Z"
    }
   },
   "outputs": [
    {
     "data": {
      "text/html": [
       "<div>\n",
       "<style scoped>\n",
       "    .dataframe tbody tr th:only-of-type {\n",
       "        vertical-align: middle;\n",
       "    }\n",
       "\n",
       "    .dataframe tbody tr th {\n",
       "        vertical-align: top;\n",
       "    }\n",
       "\n",
       "    .dataframe thead th {\n",
       "        text-align: right;\n",
       "    }\n",
       "</style>\n",
       "<table border=\"1\" class=\"dataframe\">\n",
       "  <thead>\n",
       "    <tr style=\"text-align: right;\">\n",
       "      <th></th>\n",
       "      <th>vals</th>\n",
       "    </tr>\n",
       "  </thead>\n",
       "  <tbody>\n",
       "    <tr>\n",
       "      <th>0</th>\n",
       "      <td>ab 5.189,5 €/m²</td>\n",
       "    </tr>\n",
       "    <tr>\n",
       "      <th>1</th>\n",
       "      <td>ab 7.591,67 €/m²</td>\n",
       "    </tr>\n",
       "    <tr>\n",
       "      <th>2</th>\n",
       "      <td>ab 2.468,11 €/m²</td>\n",
       "    </tr>\n",
       "    <tr>\n",
       "      <th>3</th>\n",
       "      <td>ab 8.353,58 €/m²</td>\n",
       "    </tr>\n",
       "    <tr>\n",
       "      <th>4</th>\n",
       "      <td>ab 16.479,28 €/m²</td>\n",
       "    </tr>\n",
       "    <tr>\n",
       "      <th>5</th>\n",
       "      <td>ab 9.035,75 €/m²</td>\n",
       "    </tr>\n",
       "    <tr>\n",
       "      <th>6</th>\n",
       "      <td>ab 5.395,68 €/m²</td>\n",
       "    </tr>\n",
       "    <tr>\n",
       "      <th>7</th>\n",
       "      <td>ab 7.409,54 €/m²</td>\n",
       "    </tr>\n",
       "    <tr>\n",
       "      <th>8</th>\n",
       "      <td>ab 4.921 €/m²</td>\n",
       "    </tr>\n",
       "    <tr>\n",
       "      <th>9</th>\n",
       "      <td>ab 5.937,36 €/m²</td>\n",
       "    </tr>\n",
       "  </tbody>\n",
       "</table>\n",
       "</div>"
      ],
      "text/plain": [
       "                vals\n",
       "0    ab 5.189,5 €/m²\n",
       "1   ab 7.591,67 €/m²\n",
       "2   ab 2.468,11 €/m²\n",
       "3   ab 8.353,58 €/m²\n",
       "4  ab 16.479,28 €/m²\n",
       "5   ab 9.035,75 €/m²\n",
       "6   ab 5.395,68 €/m²\n",
       "7   ab 7.409,54 €/m²\n",
       "8      ab 4.921 €/m²\n",
       "9   ab 5.937,36 €/m²"
      ]
     },
     "execution_count": 60,
     "metadata": {},
     "output_type": "execute_result"
    }
   ],
   "source": [
    "export_dict = {'vals':prices}\n",
    "export_df = pd.DataFrame(export_dict)\n",
    "export_df.head(10)"
   ]
  },
  {
   "cell_type": "markdown",
   "id": "f09eab1c-5b08-4966-bc3d-d08ab2c81751",
   "metadata": {},
   "source": [
    "Schaut schon ganz gut aus, aber für weitere Analysen brauchen wir nur die Werte."
   ]
  },
  {
   "cell_type": "code",
   "execution_count": 61,
   "id": "958292d7-3b74-4020-ada7-2547ed81cc41",
   "metadata": {
    "ExecuteTime": {
     "end_time": "2024-06-03T12:19:11.240261Z",
     "start_time": "2024-06-03T12:19:11.211646Z"
    }
   },
   "outputs": [
    {
     "data": {
      "text/html": [
       "<div>\n",
       "<style scoped>\n",
       "    .dataframe tbody tr th:only-of-type {\n",
       "        vertical-align: middle;\n",
       "    }\n",
       "\n",
       "    .dataframe tbody tr th {\n",
       "        vertical-align: top;\n",
       "    }\n",
       "\n",
       "    .dataframe thead th {\n",
       "        text-align: right;\n",
       "    }\n",
       "</style>\n",
       "<table border=\"1\" class=\"dataframe\">\n",
       "  <thead>\n",
       "    <tr style=\"text-align: right;\">\n",
       "      <th></th>\n",
       "      <th>vals</th>\n",
       "    </tr>\n",
       "  </thead>\n",
       "  <tbody>\n",
       "    <tr>\n",
       "      <th>0</th>\n",
       "      <td>5.189,5</td>\n",
       "    </tr>\n",
       "    <tr>\n",
       "      <th>1</th>\n",
       "      <td>7.591,67</td>\n",
       "    </tr>\n",
       "    <tr>\n",
       "      <th>2</th>\n",
       "      <td>2.468,11</td>\n",
       "    </tr>\n",
       "    <tr>\n",
       "      <th>3</th>\n",
       "      <td>8.353,58</td>\n",
       "    </tr>\n",
       "    <tr>\n",
       "      <th>4</th>\n",
       "      <td>16.479,28</td>\n",
       "    </tr>\n",
       "    <tr>\n",
       "      <th>5</th>\n",
       "      <td>9.035,75</td>\n",
       "    </tr>\n",
       "    <tr>\n",
       "      <th>6</th>\n",
       "      <td>5.395,68</td>\n",
       "    </tr>\n",
       "    <tr>\n",
       "      <th>7</th>\n",
       "      <td>7.409,54</td>\n",
       "    </tr>\n",
       "    <tr>\n",
       "      <th>8</th>\n",
       "      <td>4.921</td>\n",
       "    </tr>\n",
       "    <tr>\n",
       "      <th>9</th>\n",
       "      <td>5.937,36</td>\n",
       "    </tr>\n",
       "  </tbody>\n",
       "</table>\n",
       "</div>"
      ],
      "text/plain": [
       "        vals\n",
       "0    5.189,5\n",
       "1   7.591,67\n",
       "2   2.468,11\n",
       "3   8.353,58\n",
       "4  16.479,28\n",
       "5   9.035,75\n",
       "6   5.395,68\n",
       "7   7.409,54\n",
       "8      4.921\n",
       "9   5.937,36"
      ]
     },
     "execution_count": 61,
     "metadata": {},
     "output_type": "execute_result"
    }
   ],
   "source": [
    "export_df = export_df.replace('ab','',regex = True)\n",
    "export_df = export_df.replace('€/m²','',regex = True)\n",
    "export_df = export_df.replace(' ','',regex = True)\n",
    "export_df.head(10)"
   ]
  },
  {
   "cell_type": "markdown",
   "id": "d8fcd7b3-a4f8-424d-9220-0f78153ca789",
   "metadata": {},
   "source": [
    "Jetzt muss nur noch das Format angepasst werden."
   ]
  },
  {
   "cell_type": "code",
   "execution_count": 62,
   "id": "6e952568-f21b-433d-a77e-0585ccf766dd",
   "metadata": {
    "ExecuteTime": {
     "end_time": "2024-06-03T12:19:21.445422Z",
     "start_time": "2024-06-03T12:19:21.412731Z"
    }
   },
   "outputs": [
    {
     "data": {
      "text/html": [
       "<div>\n",
       "<style scoped>\n",
       "    .dataframe tbody tr th:only-of-type {\n",
       "        vertical-align: middle;\n",
       "    }\n",
       "\n",
       "    .dataframe tbody tr th {\n",
       "        vertical-align: top;\n",
       "    }\n",
       "\n",
       "    .dataframe thead th {\n",
       "        text-align: right;\n",
       "    }\n",
       "</style>\n",
       "<table border=\"1\" class=\"dataframe\">\n",
       "  <thead>\n",
       "    <tr style=\"text-align: right;\">\n",
       "      <th></th>\n",
       "      <th>vals</th>\n",
       "    </tr>\n",
       "  </thead>\n",
       "  <tbody>\n",
       "    <tr>\n",
       "      <th>0</th>\n",
       "      <td>5189.5</td>\n",
       "    </tr>\n",
       "    <tr>\n",
       "      <th>1</th>\n",
       "      <td>7591.67</td>\n",
       "    </tr>\n",
       "    <tr>\n",
       "      <th>2</th>\n",
       "      <td>2468.11</td>\n",
       "    </tr>\n",
       "    <tr>\n",
       "      <th>3</th>\n",
       "      <td>8353.58</td>\n",
       "    </tr>\n",
       "    <tr>\n",
       "      <th>4</th>\n",
       "      <td>16479.28</td>\n",
       "    </tr>\n",
       "    <tr>\n",
       "      <th>5</th>\n",
       "      <td>9035.75</td>\n",
       "    </tr>\n",
       "    <tr>\n",
       "      <th>6</th>\n",
       "      <td>5395.68</td>\n",
       "    </tr>\n",
       "    <tr>\n",
       "      <th>7</th>\n",
       "      <td>7409.54</td>\n",
       "    </tr>\n",
       "    <tr>\n",
       "      <th>8</th>\n",
       "      <td>4921</td>\n",
       "    </tr>\n",
       "    <tr>\n",
       "      <th>9</th>\n",
       "      <td>5937.36</td>\n",
       "    </tr>\n",
       "  </tbody>\n",
       "</table>\n",
       "</div>"
      ],
      "text/plain": [
       "       vals\n",
       "0    5189.5\n",
       "1   7591.67\n",
       "2   2468.11\n",
       "3   8353.58\n",
       "4  16479.28\n",
       "5   9035.75\n",
       "6   5395.68\n",
       "7   7409.54\n",
       "8      4921\n",
       "9   5937.36"
      ]
     },
     "execution_count": 62,
     "metadata": {},
     "output_type": "execute_result"
    }
   ],
   "source": [
    "export_df = export_df.apply(lambda x: x.str.replace('.',''))\n",
    "export_df = export_df.replace(',','.',regex = True)\n",
    "export_df.head(10)"
   ]
  },
  {
   "cell_type": "markdown",
   "id": "32b12dd9-4a67-488e-bf58-06bbd05b66b1",
   "metadata": {},
   "source": [
    "Die meisten der Werte schauen gut aus. Einige gescrapte Werte können nicht weiter verarbeitet werden und werden deswegen gelöscht."
   ]
  },
  {
   "cell_type": "code",
   "execution_count": 63,
   "id": "848c52a0-1983-4242-b179-a920246515c7",
   "metadata": {
    "ExecuteTime": {
     "end_time": "2024-06-03T12:19:32.148003Z",
     "start_time": "2024-06-03T12:19:32.127250Z"
    }
   },
   "outputs": [
    {
     "data": {
      "text/html": [
       "<div>\n",
       "<style scoped>\n",
       "    .dataframe tbody tr th:only-of-type {\n",
       "        vertical-align: middle;\n",
       "    }\n",
       "\n",
       "    .dataframe tbody tr th {\n",
       "        vertical-align: top;\n",
       "    }\n",
       "\n",
       "    .dataframe thead th {\n",
       "        text-align: right;\n",
       "    }\n",
       "</style>\n",
       "<table border=\"1\" class=\"dataframe\">\n",
       "  <thead>\n",
       "    <tr style=\"text-align: right;\">\n",
       "      <th></th>\n",
       "      <th>vals</th>\n",
       "    </tr>\n",
       "  </thead>\n",
       "  <tbody>\n",
       "    <tr>\n",
       "      <th>98</th>\n",
       "      <td>statt279000€-10%</td>\n",
       "    </tr>\n",
       "    <tr>\n",
       "      <th>99</th>\n",
       "      <td>statt458000€-14%</td>\n",
       "    </tr>\n",
       "    <tr>\n",
       "      <th>130</th>\n",
       "      <td>statt229000€-10%</td>\n",
       "    </tr>\n",
       "    <tr>\n",
       "      <th>134</th>\n",
       "      <td>statt269000€-9%</td>\n",
       "    </tr>\n",
       "    <tr>\n",
       "      <th>211</th>\n",
       "      <td>statt515000€-5%</td>\n",
       "    </tr>\n",
       "    <tr>\n",
       "      <th>214</th>\n",
       "      <td>statt990000€-9%</td>\n",
       "    </tr>\n",
       "    <tr>\n",
       "      <th>268</th>\n",
       "      <td>statt539000€-8%</td>\n",
       "    </tr>\n",
       "    <tr>\n",
       "      <th>279</th>\n",
       "      <td>statt369000€-8%</td>\n",
       "    </tr>\n",
       "    <tr>\n",
       "      <th>297</th>\n",
       "      <td>statt315000€-6%</td>\n",
       "    </tr>\n",
       "    <tr>\n",
       "      <th>436</th>\n",
       "      <td>statt270000€-8%</td>\n",
       "    </tr>\n",
       "    <tr>\n",
       "      <th>474</th>\n",
       "      <td>statt630000€-6%</td>\n",
       "    </tr>\n",
       "    <tr>\n",
       "      <th>491</th>\n",
       "      <td>statt445000€-4%</td>\n",
       "    </tr>\n",
       "    <tr>\n",
       "      <th>506</th>\n",
       "      <td>statt207000€-3%</td>\n",
       "    </tr>\n",
       "    <tr>\n",
       "      <th>589</th>\n",
       "      <td>statt599000€-5%</td>\n",
       "    </tr>\n",
       "  </tbody>\n",
       "</table>\n",
       "</div>"
      ],
      "text/plain": [
       "                 vals\n",
       "98   statt279000€-10%\n",
       "99   statt458000€-14%\n",
       "130  statt229000€-10%\n",
       "134   statt269000€-9%\n",
       "211   statt515000€-5%\n",
       "214   statt990000€-9%\n",
       "268   statt539000€-8%\n",
       "279   statt369000€-8%\n",
       "297   statt315000€-6%\n",
       "436   statt270000€-8%\n",
       "474   statt630000€-6%\n",
       "491   statt445000€-4%\n",
       "506   statt207000€-3%\n",
       "589   statt599000€-5%"
      ]
     },
     "execution_count": 63,
     "metadata": {},
     "output_type": "execute_result"
    }
   ],
   "source": [
    "export_df[export_df['vals'].str.startswith('statt')]"
   ]
  },
  {
   "cell_type": "markdown",
   "id": "69685b24-43be-4a96-88ef-0fab1918db24",
   "metadata": {},
   "source": [
    "Die Daten wurden gelöscht."
   ]
  },
  {
   "cell_type": "code",
   "execution_count": 64,
   "id": "77f94e49-dc79-4142-9acf-b8945c728d93",
   "metadata": {
    "ExecuteTime": {
     "end_time": "2024-06-03T12:19:43.245194Z",
     "start_time": "2024-06-03T12:19:39.477240Z"
    }
   },
   "outputs": [],
   "source": [
    "export_df = export_df.drop([98,99,130,134,211,214,268,279,297,436,474,491,506,589])"
   ]
  },
  {
   "cell_type": "markdown",
   "id": "08d40c07-074f-44b5-ad8a-cba901e7c0f9",
   "metadata": {},
   "source": [
    "Daten schauen gut aus und können in ein csv exportiert werden."
   ]
  },
  {
   "cell_type": "code",
   "execution_count": 65,
   "id": "2c1efa4c-a30c-46dd-a7c2-c55ffdea317e",
   "metadata": {},
   "outputs": [],
   "source": [
    "export_df.to_csv('./exports/prices.csv', index=False)  "
   ]
  },
  {
   "cell_type": "markdown",
   "id": "382a7ef9-c8a6-4f73-b9a6-09fe7d077f1e",
   "metadata": {},
   "source": [
    "#### Analysis"
   ]
  },
  {
   "cell_type": "markdown",
   "id": "93335392-bc7f-4760-b6c7-6cc5de80d4b2",
   "metadata": {},
   "source": [
    "Um ein tieferes Verständnis der Daten aufzubauen wollen wir uns einige Visulisierungen zu nutze machen. Deswegen müssen wir die bereits strukturierten und bereinigte Daten laden."
   ]
  },
  {
   "cell_type": "code",
   "execution_count": 66,
   "id": "bc8388cc-63a7-46a8-84f7-9fe5f521e4e6",
   "metadata": {},
   "outputs": [
    {
     "name": "stdout",
     "output_type": "stream",
     "text": [
      "DataFrame[vals: string]\n",
      "+--------+\n",
      "|    vals|\n",
      "+--------+\n",
      "|  5189.5|\n",
      "| 7591.67|\n",
      "| 2468.11|\n",
      "| 8353.58|\n",
      "|16479.28|\n",
      "+--------+\n",
      "only showing top 5 rows\n"
     ]
    }
   ],
   "source": [
    "spark = SparkSession \\\n",
    "    .builder \\\n",
    "    .appName(\"ImmoCheck\") \\\n",
    "    .getOrCreate()\n",
    "df = spark.read.csv(\"./exports/prices.csv\",header = True)\n",
    "print(df)\n",
    "df.show(5)"
   ]
  },
  {
   "cell_type": "markdown",
   "id": "3e0831f5-0e5c-4451-8fed-92310b569c6f",
   "metadata": {},
   "source": [
    "Die Daten sind geladen, müssen aber den Datentypen auf float ändern um eine Visualisierung zu erzeugen."
   ]
  },
  {
   "cell_type": "code",
   "execution_count": 67,
   "id": "c83abf8f-55b4-47a1-b90f-d207c16912e5",
   "metadata": {},
   "outputs": [
    {
     "data": {
      "text/plain": [
       "DataFrame[vals: float]"
      ]
     },
     "execution_count": 67,
     "metadata": {},
     "output_type": "execute_result"
    }
   ],
   "source": [
    "df = df.withColumn(\"vals\", df[\"vals\"].cast(\"float\"))\n",
    "df"
   ]
  },
  {
   "cell_type": "code",
   "execution_count": 68,
   "id": "4802861b-3156-44b1-8e41-b283041217ab",
   "metadata": {},
   "outputs": [
    {
     "data": {
      "text/plain": [
       "<Axes: >"
      ]
     },
     "execution_count": 68,
     "metadata": {},
     "output_type": "execute_result"
    },
    {
     "data": {
      "image/png": "[encoded data removed]",
      "text/plain": [
       "<Figure size 640x480 with 1 Axes>"
      ]
     },
     "metadata": {},
     "output_type": "display_data"
    }
   ],
   "source": [
    "df_p = df.select('*').toPandas()\n",
    "df_p.dtypes\n",
    "df_p['vals'] = df_p['vals'].astype('float64')\n",
    "df_p[\"vals\"].plot.box() "
   ]
  },
  {
   "cell_type": "markdown",
   "id": "81636797-78b5-4c29-9788-b317274c709f",
   "metadata": {},
   "source": [
    "Beschreibung Markus!!!!!!!!!"
   ]
  },
  {
   "cell_type": "code",
   "execution_count": 69,
   "id": "0e009368-8b5b-47bf-a70a-10233e198f31",
   "metadata": {},
   "outputs": [
    {
     "name": "stdout",
     "output_type": "stream",
     "text": [
      "+----------------------+\n",
      "|round(median(vals), 0)|\n",
      "+----------------------+\n",
      "|                6795.0|\n",
      "+----------------------+\n"
     ]
    }
   ],
   "source": [
    "df_median = df.select(round(median('vals')))\n",
    "df_median.show()"
   ]
  },
  {
   "cell_type": "markdown",
   "id": "951428a5-959e-41f4-8726-a63d03be6c16",
   "metadata": {},
   "source": [
    "Der Median für unser Datenset beträgt € 6795 pro m²."
   ]
  },
  {
   "cell_type": "markdown",
   "source": [
    "Eine kleine Auflockerung dazwischen:\n",
    "Was ist die Lieblingsbeschäftigung von *Bits*?\n",
    "*Bus*fahren!"
   ],
   "metadata": {
    "collapsed": false
   },
   "id": "ae8223497d5be9da"
  },
  {
   "cell_type": "markdown",
   "id": "932ca6abb912d03f",
   "metadata": {
    "collapsed": false
   },
   "source": [
    "### Datasource 2 - Historical cost of real estate"
   ]
  },
  {
   "cell_type": "markdown",
   "source": [
    "#### Load Data"
   ],
   "metadata": {
    "collapsed": false
   },
   "id": "db1d04a3fe001cc0"
  },
  {
   "cell_type": "markdown",
   "source": [
    "Zuerst, laden wir uns mit dem ods-reader aus dem ods file den Reiter \"Wien\"."
   ],
   "metadata": {
    "collapsed": false
   },
   "id": "b16a920d843e5d78"
  },
  {
   "cell_type": "code",
   "execution_count": 23,
   "id": "b9a1567b8d87b72e",
   "metadata": {
    "collapsed": false,
    "ExecuteTime": {
     "end_time": "2024-06-14T13:26:25.160608Z",
     "start_time": "2024-06-14T13:26:24.810294Z"
    }
   },
   "outputs": [],
   "source": [
    "file_path = './statistik austria/Wohnungspreise2016.ods'\n",
    "df_wien = pd.read_excel(file_path, engine='odf', sheet_name='Wien', header=[3, 4])"
   ]
  },
  {
   "cell_type": "markdown",
   "source": [
    "Lasst uns schauen was wir laden konnten:"
   ],
   "metadata": {
    "collapsed": false
   },
   "id": "5dcafa61aa2a9c33"
  },
  {
   "cell_type": "code",
   "outputs": [
    {
     "name": "stdout",
     "output_type": "stream",
     "text": [
      "         Unnamed: 0_level_0 Wohnfläche nach Baujahr              \\\n",
      "                    Bezirke                Bis 1960  Bis 1960.1   \n",
      "0                       NaN       Weniger als 56 m²  56 - 80 m²   \n",
      "1  Wien  1.,Innere Stadt 3)                    5901        5901   \n",
      "2     Wien  2.,Leopoldstadt                    2533        2532   \n",
      "3       Wien  3.,Landstraße                    2782        2819   \n",
      "4           Wien  4.,Wieden                    3050        2944   \n",
      "\n",
      "                                                                    \\\n",
      "        Bis 1960.2          1961-1990 1961-1990.1      1961-1990.2   \n",
      "0  Mehr als  80 m²  Weniger als 56 m²  56 - 80 m²  Mehr als  80 m²   \n",
      "1             5901               4067        4067             4067   \n",
      "2             2534               2748        2747             2749   \n",
      "3             2862               2710        2746             2788   \n",
      "4             3076               2738        2643             2761   \n",
      "\n",
      "                                                   \n",
      "             Ab 1991   Ab 1991.1        Ab 1991.2  \n",
      "0  Weniger als 56 m²  56 - 80 m²  Mehr als  80 m²  \n",
      "1              11689       11689            11689  \n",
      "2               3979        3977             3981  \n",
      "3               4359        4417             4484  \n",
      "4               3842        3708             3874  \n"
     ]
    }
   ],
   "source": [
    "print(df_wien.head())"
   ],
   "metadata": {
    "collapsed": false,
    "ExecuteTime": {
     "end_time": "2024-06-14T13:26:26.480364Z",
     "start_time": "2024-06-14T13:26:26.447270Z"
    }
   },
   "id": "f1b72886bed57438",
   "execution_count": 24
  },
  {
   "cell_type": "markdown",
   "source": [
    "Wir verwenden die dropna() Methode von pandas um alle Spalten mit \"NaN\" Werte zu löschen."
   ],
   "metadata": {
    "collapsed": false
   },
   "id": "52ed173fbc33e676"
  },
  {
   "cell_type": "code",
   "outputs": [],
   "source": [
    "df_wien = df_wien.dropna(axis=1, how='all')"
   ],
   "metadata": {
    "collapsed": false,
    "ExecuteTime": {
     "end_time": "2024-06-14T13:26:29.627971Z",
     "start_time": "2024-06-14T13:26:29.616419Z"
    }
   },
   "id": "d764d673b2c03768",
   "execution_count": 25
  },
  {
   "cell_type": "markdown",
   "source": [
    "Wir fokussieren uns auf die Spalte \"Ab 1991.2\" und stellen sicher, dass die letzte Spalte ausschließlich nummerische Werte enthält damit wir den Median generieren können."
   ],
   "metadata": {
    "collapsed": false
   },
   "id": "230597264901379b"
  },
  {
   "cell_type": "code",
   "execution_count": 26,
   "id": "c4797751312eb37d",
   "metadata": {
    "collapsed": false,
    "ExecuteTime": {
     "end_time": "2024-06-14T13:26:31.120367Z",
     "start_time": "2024-06-14T13:26:31.109745Z"
    }
   },
   "outputs": [],
   "source": [
    "# save the head of the last column into a variable\n",
    "last_column = df_wien.columns[-1]\n",
    "\n",
    "# convert the values into numeric (if not possible they appear as \"NaN\"\n",
    "df_wien[last_column] = pd.to_numeric(df_wien[last_column], errors='coerce')\n",
    "\n",
    "# calculate the mean of the last column (this method ignores \"NaN\" values\n",
    "mean_value = df_wien[last_column].mean()"
   ]
  },
  {
   "cell_type": "markdown",
   "source": [
    "Lasst uns schauen was der Outcome für 2016 ist:"
   ],
   "metadata": {
    "collapsed": false
   },
   "id": "4f021eadc4136725"
  },
  {
   "cell_type": "code",
   "outputs": [
    {
     "name": "stdout",
     "output_type": "stream",
     "text": [
      "Der Mittelwert 'Ab 1991.2' für 2016 beträgt: 4577.369565217391\n"
     ]
    }
   ],
   "source": [
    "print(f\"Der Mittelwert '{last_column[1]}' für 2016 beträgt: {mean_value}\")"
   ],
   "metadata": {
    "collapsed": false,
    "ExecuteTime": {
     "end_time": "2024-06-14T13:26:33.766535Z",
     "start_time": "2024-06-14T13:26:33.755418Z"
    }
   },
   "id": "5b43cecb2ce7375c",
   "execution_count": 27
  },
  {
   "cell_type": "markdown",
   "source": [
    "Jetzt können wir dasselbe für alle Files wiederholen. Dafür kreieren wir zuerst eine Liste die die Tupels Dateipfad und Jahreszahl beinhaltet."
   ],
   "metadata": {
    "collapsed": false
   },
   "id": "624b025880b21907"
  },
  {
   "cell_type": "code",
   "execution_count": 28,
   "id": "8221404d0ea5fdba",
   "metadata": {
    "collapsed": false,
    "ExecuteTime": {
     "end_time": "2024-06-14T13:26:35.643980Z",
     "start_time": "2024-06-14T13:26:35.633800Z"
    }
   },
   "outputs": [],
   "source": [
    "files = [\n",
    "    ('./statistik austria/Wohnungspreise2016.ods', 2016),\n",
    "    ('./statistik austria/Wohnungspreise2017.ods', 2017),\n",
    "    ('./statistik austria/Wohnungspreise2018.ods', 2018),\n",
    "    ('./statistik austria/Wohnungspreise2019.ods', 2019),\n",
    "    ('./statistik austria/Wohnungspreise2020.ods', 2020),\n",
    "    ('./statistik austria/Wohnungspreise2021.ods', 2021),\n",
    "    ('./statistik austria/Wohnungspreise2022.ods', 2022),\n",
    "]"
   ]
  },
  {
   "cell_type": "markdown",
   "source": [
    "Wir definieren die Funktion und führen dieselbe Prozedur für alle Files von 2016 bis 2022 durch:"
   ],
   "metadata": {
    "collapsed": false
   },
   "id": "51fa45a977c01f04"
  },
  {
   "cell_type": "code",
   "outputs": [],
   "source": [
    "def calculate_mean(file_path, sheet_name='Wien'):\n",
    "    df = pd.read_excel(file_path, engine='odf', sheet_name=sheet_name, header=[3, 4])\n",
    "    df = df.dropna(axis=1, how='all')\n",
    "    last_column = df.columns[-1]\n",
    "    df[last_column] = pd.to_numeric(df[last_column], errors='coerce')\n",
    "    return df[last_column].mean()"
   ],
   "metadata": {
    "collapsed": false,
    "ExecuteTime": {
     "end_time": "2024-06-14T13:26:38.363470Z",
     "start_time": "2024-06-14T13:26:38.350578Z"
    }
   },
   "id": "c0e517bcc76be76d",
   "execution_count": 29
  },
  {
   "cell_type": "markdown",
   "source": [
    "Wir erstellen ein leeres dictionary um die Resultate der Schleife zu speichern und iterieren über die vorherige Funktion "
   ],
   "metadata": {
    "collapsed": false
   },
   "id": "5c88f9641abd8c6a"
  },
  {
   "cell_type": "code",
   "outputs": [],
   "source": [
    "results = {}\n",
    "\n",
    "for file_path, year in files:\n",
    "    mean_value = calculate_mean(file_path)\n",
    "    results[year] = mean_value"
   ],
   "metadata": {
    "collapsed": false,
    "ExecuteTime": {
     "end_time": "2024-06-14T13:26:43.931093Z",
     "start_time": "2024-06-14T13:26:40.786439Z"
    }
   },
   "id": "d353f4f38c118003",
   "execution_count": 30
  },
  {
   "cell_type": "markdown",
   "source": [
    "Lasst uns den Outcome anschauen:"
   ],
   "metadata": {
    "collapsed": false
   },
   "id": "f804ba4711664ea0"
  },
  {
   "cell_type": "code",
   "outputs": [
    {
     "name": "stdout",
     "output_type": "stream",
     "text": [
      "{2016: 4577.369565217391, 2017: 4910.804347826087, 2018: 5108.978260869565, 2019: 5667.304347826087, 2020: 5947.521739130435, 2021: 6311.673913043478, 2022: 6994.673913043478}\n"
     ]
    }
   ],
   "source": [
    "print(results)"
   ],
   "metadata": {
    "collapsed": false,
    "ExecuteTime": {
     "end_time": "2024-06-14T13:26:47.380044Z",
     "start_time": "2024-06-14T13:26:47.374241Z"
    }
   },
   "id": "10e12535bc22ac7d",
   "execution_count": 31
  },
  {
   "cell_type": "markdown",
   "source": [
    "Nur das ods File aus 2015 hat eine etwas andere Struktur, weswegen wir die Werte seperat extrahieren und sie nachher zu den übrigen Werten hinzufügen müssen. Der Start ist ziemlich ähnlich:"
   ],
   "metadata": {
    "collapsed": false
   },
   "id": "33c6d4eee982656f"
  },
  {
   "cell_type": "code",
   "outputs": [],
   "source": [
    "file_path_2015 = './statistik austria/Wohnungspreise2015.ods'\n",
    "sheet_name_2015 = 'Wohnungen_mit_Außenflächen'\n",
    "df_2015_ohne_außenflächen = pd.read_excel(file_path_2015, engine='odf', sheet_name=sheet_name_2015, header=[2, 3])\n",
    "df_2015_ohne_außenflächen_cleaned = df_2015_ohne_außenflächen.dropna(axis=1, how='all')"
   ],
   "metadata": {
    "collapsed": false,
    "ExecuteTime": {
     "end_time": "2024-06-14T13:26:56.844446Z",
     "start_time": "2024-06-14T13:26:56.332029Z"
    }
   },
   "id": "f97088a8c5c682d4",
   "execution_count": 32
  },
  {
   "cell_type": "code",
   "outputs": [
    {
     "name": "stdout",
     "output_type": "stream",
     "text": [
      "                                            Burgenland Wohnflächenkategorien  \\\n",
      "                                               Bezirke      Weniger als 60m²   \n",
      "0                                           Eisenstadt                  1600   \n",
      "1                                                Rust*                  1190   \n",
      "2                                  Eisenstadt-Umgebung                  1190   \n",
      "3                                              Güssing                   920   \n",
      "4                                          Jennersdorf                  1260   \n",
      "..                                                 ...                   ...   \n",
      "128                                        Brigittenau                  3240   \n",
      "129                                        Floridsdorf                  3180   \n",
      "130                                         Donaustadt                  3660   \n",
      "131                                            Liesing                  3350   \n",
      "132  Q: STATISTIK AUSTRIA. Erstellt am 29.12.2016. ...                   NaN   \n",
      "\n",
      "                               \n",
      "    Von 60m² bis 85m² Ab 85m²  \n",
      "0                1550    1530  \n",
      "1                1050     940  \n",
      "2                1050     940  \n",
      "3                 800     560  \n",
      "4                 880     690  \n",
      "..                ...     ...  \n",
      "128              3150    3140  \n",
      "129              2960    2800  \n",
      "130              3330    3090  \n",
      "131              3090    3280  \n",
      "132               NaN     NaN  \n",
      "\n",
      "[133 rows x 4 columns]\n"
     ]
    }
   ],
   "source": [
    "print(df_2015_ohne_außenflächen_cleaned)"
   ],
   "metadata": {
    "collapsed": false,
    "ExecuteTime": {
     "end_time": "2024-06-14T13:26:59.975982Z",
     "start_time": "2024-06-14T13:26:59.963686Z"
    }
   },
   "id": "40577320d57a9fdd",
   "execution_count": 33
  },
  {
   "cell_type": "markdown",
   "source": [
    "Wie man sehen kann, gibt es deutlich mehr Zeilen als wie benötigen, weswegen wir uns nur auf die Wiener Bezirke konzentrieren:"
   ],
   "metadata": {
    "collapsed": false
   },
   "id": "c34ab38ebb72012c"
  },
  {
   "cell_type": "code",
   "outputs": [],
   "source": [
    "vienna_districts_2015 = df_2015_ohne_außenflächen_cleaned[\n",
    "    df_2015_ohne_außenflächen_cleaned.iloc[:, 0].str.contains(\n",
    "        'Innere Stadt|Leopoldstadt|Landstraße|Wieden|Margareten|Mariahilf|Neubau|Josefstadt|Alsergrund|Favoriten|Simmering|Meidling|Hietzing|Penzing|Rudolfsheim-Fünfhaus|Ottakring|Hernals|Währing|Döbling|Brigittenau|Floridsdorf|Donaustadt|Liesing',\n",
    "        na=False\n",
    "    )\n",
    "]"
   ],
   "metadata": {
    "collapsed": false,
    "ExecuteTime": {
     "end_time": "2024-06-14T13:27:04.243846Z",
     "start_time": "2024-06-14T13:27:04.236695Z"
    }
   },
   "id": "2606e255e58861ad",
   "execution_count": 34
  },
  {
   "cell_type": "code",
   "outputs": [
    {
     "name": "stdout",
     "output_type": "stream",
     "text": [
      "       Burgenland Wohnflächenkategorien                          \n",
      "          Bezirke      Weniger als 60m² Von 60m² bis 85m² Ab 85m²\n",
      "109  Innere Stadt                  4530              4810    4550\n",
      "110  Leopoldstadt                  4030              3690    3640\n",
      "111    Landstraße                  3960              3680    3920\n",
      "112        Wieden                  3700              3650    3850\n",
      "113    Margareten                  3760              3610    3650\n",
      "114     Mariahilf                  4030              4010    3960\n",
      "115        Neubau                  4450              4290    4160\n",
      "116    Josefstadt                  4220              4060    3800\n",
      "117    Alsergrund                  3550              3720    4110\n",
      "118     Favoriten                  2880              2800    2790\n",
      "119     Simmering                  2590              2320    2430\n",
      "120      Meidling                  3380              3020    3210\n",
      "121      Hietzing                  3750              3910    3990\n",
      "122       Penzing                  3260              3440    3290\n",
      "124     Ottakring                  3390              3230    3240\n",
      "125       Hernals                  3530              3490    3710\n",
      "126       Währing                  3840              3710    4090\n",
      "127       Döbling                  3790              4020    4180\n",
      "128   Brigittenau                  3240              3150    3140\n",
      "129   Floridsdorf                  3180              2960    2800\n",
      "130    Donaustadt                  3660              3330    3090\n",
      "131       Liesing                  3350              3090    3280\n"
     ]
    }
   ],
   "source": [
    "print(vienna_districts_2015)"
   ],
   "metadata": {
    "collapsed": false,
    "ExecuteTime": {
     "end_time": "2024-06-14T13:27:07.605227Z",
     "start_time": "2024-06-14T13:27:07.589723Z"
    }
   },
   "id": "80b57e6065f26ae3",
   "execution_count": 35
  },
  {
   "cell_type": "markdown",
   "source": [
    "Um mögliche Problemen zu verhindern, löschen wir die Kopfzeile(n) und ersetzen sie mit sinnvollem Text:"
   ],
   "metadata": {
    "collapsed": false
   },
   "id": "29a355d3d426ad01"
  },
  {
   "cell_type": "code",
   "outputs": [],
   "source": [
    "df_2015_ohne_außenflächen_cleaned = vienna_districts_2015[1:]\n",
    "\n",
    "df_2015_ohne_außenflächen_cleaned.columns = ['Bezirk', 'Weniger als 60m²', 'Von 60m² bis 85m²', 'Mehr als 85m²']"
   ],
   "metadata": {
    "collapsed": false,
    "ExecuteTime": {
     "end_time": "2024-06-14T13:27:11.297169Z",
     "start_time": "2024-06-14T13:27:11.288259Z"
    }
   },
   "id": "f3ebc23acdab3c99",
   "execution_count": 36
  },
  {
   "cell_type": "code",
   "outputs": [
    {
     "name": "stdout",
     "output_type": "stream",
     "text": [
      "           Bezirk Weniger als 60m² Von 60m² bis 85m² Mehr als 85m²\n",
      "110  Leopoldstadt             4030              3690          3640\n",
      "111    Landstraße             3960              3680          3920\n",
      "112        Wieden             3700              3650          3850\n",
      "113    Margareten             3760              3610          3650\n",
      "114     Mariahilf             4030              4010          3960\n",
      "115        Neubau             4450              4290          4160\n",
      "116    Josefstadt             4220              4060          3800\n",
      "117    Alsergrund             3550              3720          4110\n",
      "118     Favoriten             2880              2800          2790\n",
      "119     Simmering             2590              2320          2430\n",
      "120      Meidling             3380              3020          3210\n",
      "121      Hietzing             3750              3910          3990\n",
      "122       Penzing             3260              3440          3290\n",
      "124     Ottakring             3390              3230          3240\n",
      "125       Hernals             3530              3490          3710\n",
      "126       Währing             3840              3710          4090\n",
      "127       Döbling             3790              4020          4180\n",
      "128   Brigittenau             3240              3150          3140\n",
      "129   Floridsdorf             3180              2960          2800\n",
      "130    Donaustadt             3660              3330          3090\n",
      "131       Liesing             3350              3090          3280\n"
     ]
    }
   ],
   "source": [
    "print(df_2015_ohne_außenflächen_cleaned)"
   ],
   "metadata": {
    "collapsed": false,
    "ExecuteTime": {
     "end_time": "2024-06-14T13:27:13.381044Z",
     "start_time": "2024-06-14T13:27:13.364294Z"
    }
   },
   "id": "3d529ab4e438b4fd",
   "execution_count": 37
  },
  {
   "cell_type": "markdown",
   "source": [
    "Danach konzentrieren wir uns wieder auf die letzte Spalte, konvertieren diese zu Werten und kalkulieren den Median:\n",
    "##### *(ROBERT AUSBESSERN!)*"
   ],
   "metadata": {
    "collapsed": false
   },
   "id": "bf75a710b004659f"
  },
  {
   "cell_type": "code",
   "outputs": [],
   "source": [
    "last_column_2015 = vienna_districts_2015.columns[-1]\n",
    "vienna_districts_2015[last_column_2015] = pd.to_numeric(vienna_districts_2015[last_column_2015], errors='coerce')\n",
    "mean_value_2015 = vienna_districts_2015[last_column_2015].mean()"
   ],
   "metadata": {
    "collapsed": false,
    "ExecuteTime": {
     "end_time": "2024-06-14T13:27:16.233796Z",
     "start_time": "2024-06-14T13:27:16.226896Z"
    }
   },
   "id": "c14191f04a46f1a0",
   "execution_count": 38
  },
  {
   "cell_type": "code",
   "outputs": [
    {
     "name": "stdout",
     "output_type": "stream",
     "text": [
      "Der Mittelwert für 2015 beträgt: 3585.4545454545455\n"
     ]
    }
   ],
   "source": [
    "print(f\"Der Mittelwert für 2015 beträgt: {mean_value_2015}\")"
   ],
   "metadata": {
    "collapsed": false,
    "ExecuteTime": {
     "end_time": "2024-06-14T13:27:18.374374Z",
     "start_time": "2024-06-14T13:27:18.364186Z"
    }
   },
   "id": "9e4a2e0ee760b003",
   "execution_count": 39
  },
  {
   "cell_type": "markdown",
   "source": [
    "Nachdem wir erfolgreich alle Mediane von 2015 bis 2022 kalkuliert haben, fügen wir diese nun zusammen: "
   ],
   "metadata": {
    "collapsed": false
   },
   "id": "c6edbeb12e2a4297"
  },
  {
   "cell_type": "code",
   "outputs": [
    {
     "name": "stdout",
     "output_type": "stream",
     "text": [
      "{2016: 4577.369565217391, 2017: 4910.804347826087, 2018: 5108.978260869565, 2019: 5667.304347826087, 2020: 5947.521739130435, 2021: 6311.673913043478, 2022: 6994.673913043478, 2015: 3585.4545454545455}\n"
     ]
    }
   ],
   "source": [
    "results[2015] = mean_value_2015\n",
    "print(results)"
   ],
   "metadata": {
    "collapsed": false,
    "ExecuteTime": {
     "end_time": "2024-06-14T13:27:22.209739Z",
     "start_time": "2024-06-14T13:27:22.204002Z"
    }
   },
   "id": "58e111bc5ff6630d",
   "execution_count": 40
  },
  {
   "cell_type": "markdown",
   "source": [
    "#### Analysis"
   ],
   "metadata": {
    "collapsed": false
   },
   "id": "1dc2b6d7f16cad63"
  },
  {
   "cell_type": "markdown",
   "source": [
    "Jetzt laden wir alles in ein DataFrame für weitere Analysen:"
   ],
   "metadata": {
    "collapsed": false
   },
   "id": "2950aa132189c9a"
  },
  {
   "cell_type": "code",
   "outputs": [
    {
     "name": "stdout",
     "output_type": "stream",
     "text": [
      "   Year         Mean\n",
      "0  2015  3585.454545\n",
      "1  2016  4577.369565\n",
      "2  2017  4910.804348\n",
      "3  2018  5108.978261\n",
      "4  2019  5667.304348\n",
      "5  2020  5947.521739\n",
      "6  2021  6311.673913\n",
      "7  2022  6994.673913\n"
     ]
    }
   ],
   "source": [
    "results_df = pd.DataFrame(list(results.items()), columns=['Year', 'Mean']).sort_values('Year').reset_index(drop=True)\n",
    "print(results_df)"
   ],
   "metadata": {
    "collapsed": false,
    "ExecuteTime": {
     "end_time": "2024-06-14T13:27:27.508934Z",
     "start_time": "2024-06-14T13:27:27.499831Z"
    }
   },
   "id": "ef8ab7fb3cb88e48",
   "execution_count": 41
  },
  {
   "cell_type": "markdown",
   "source": [
    "Wir nutzen die Pandas Methode \"pct_change()\" um die prozentualen Veränderungen des Medians von Jahr zu Jahr zu berechnen und dem DataFrame hinzu zu fügen:"
   ],
   "metadata": {
    "collapsed": false
   },
   "id": "c59bd09a74d64ad4"
  },
  {
   "cell_type": "code",
   "outputs": [
    {
     "name": "stdout",
     "output_type": "stream",
     "text": [
      "   Year         Mean  Percentage Change\n",
      "0  2015  3585.454545                NaN\n",
      "1  2016  4577.369565          27.664973\n",
      "2  2017  4910.804348           7.284419\n",
      "3  2018  5108.978261           4.035467\n",
      "4  2019  5667.304348          10.928332\n",
      "5  2020  5947.521739           4.944456\n",
      "6  2021  6311.673913           6.122755\n",
      "7  2022  6994.673913          10.821218\n"
     ]
    }
   ],
   "source": [
    "results_df['Percentage Change'] = results_df['Mean'].pct_change() * 100\n",
    "\n",
    "print(results_df)"
   ],
   "metadata": {
    "collapsed": false,
    "ExecuteTime": {
     "end_time": "2024-06-14T13:27:33.167171Z",
     "start_time": "2024-06-14T13:27:33.153890Z"
    }
   },
   "id": "3300e0c19124c97b",
   "execution_count": 42
  },
  {
   "cell_type": "markdown",
   "source": [
    "Jetzt nutzen wir dies als Basis für unsere Visualisierungen, um ein tieferes Verständnis für die Daten zu erhalten:"
   ],
   "metadata": {
    "collapsed": false
   },
   "id": "e700e5ad18d0a580"
  },
  {
   "cell_type": "code",
   "execution_count": 45,
   "id": "91040ead9ae03bd0",
   "metadata": {
    "collapsed": false,
    "ExecuteTime": {
     "end_time": "2024-06-14T13:34:43.785224Z",
     "start_time": "2024-06-14T13:34:43.444163Z"
    }
   },
   "outputs": [
    {
     "data": {
      "text/plain": "<Figure size 1000x500 with 1 Axes>",
      "image/png": "[encoded data removed]"
     },
     "metadata": {},
     "output_type": "display_data"
    }
   ],
   "source": [
    "plt.figure(figsize=(10, 5))\n",
    "plt.plot(results_df['Year'], results_df['Mean'], marker='o', linestyle='-')\n",
    "plt.title('Average Apartment Prices in Vienna (2015-2022)')\n",
    "plt.xlabel('Year')\n",
    "plt.ylabel('Mean Price')\n",
    "plt.grid(True)\n",
    "plt.show()"
   ]
  },
  {
   "cell_type": "markdown",
   "source": [
    "Wir können beobachten wie der Median für Wohnungen in Wien von rund € 3.500,-- in 2015 stetig gestiegen ist und sich beinahe bis 2022 auf € 7.000,-- verdoppelt hat."
   ],
   "metadata": {
    "collapsed": false
   },
   "id": "711d404fc22d735f"
  },
  {
   "cell_type": "markdown",
   "source": [
    "Lasst uns die totalen Werte des Medians als Säulendiagramm darstellen und die prozentualen Veränderungen auf einer sekundären Achse:"
   ],
   "metadata": {
    "collapsed": false
   },
   "id": "2384343f2957828f"
  },
  {
   "cell_type": "code",
   "execution_count": 44,
   "id": "e07947ec42be17c0",
   "metadata": {
    "collapsed": false,
    "ExecuteTime": {
     "end_time": "2024-06-14T13:27:52.163215Z",
     "start_time": "2024-06-14T13:27:51.661240Z"
    }
   },
   "outputs": [
    {
     "data": {
      "text/plain": "<Figure size 1000x500 with 2 Axes>",
      "image/png": "[encoded data removed]"
     },
     "metadata": {},
     "output_type": "display_data"
    }
   ],
   "source": [
    "# Plot the mean values per year as a bar chart\n",
    "fig, ax1 = plt.subplots(figsize=(10, 5))\n",
    "\n",
    "ax1.bar(results_df['Year'], results_df['Mean'], color='skyblue')\n",
    "ax1.set_xlabel('Year')\n",
    "ax1.set_ylabel('Mean Price', color='skyblue')\n",
    "ax1.tick_params(axis='y', labelcolor='skyblue')\n",
    "ax1.set_title('Average Apartment Prices and Year-over-Year Percentage Change in Vienna (2015-2022)')\n",
    "\n",
    "# Create a secondary y-axis to plot the percentage change\n",
    "ax2 = ax1.twinx()\n",
    "ax2.plot(results_df['Year'], results_df['Percentage Change'], color='darkblue', marker='o', linestyle='-')\n",
    "ax2.set_ylabel('Percentage Change (%)', color='darkblue')\n",
    "ax2.tick_params(axis='y', labelcolor='darkblue')\n",
    "\n",
    "fig.tight_layout()  # Ensure everything fits without overlapping\n",
    "plt.grid(True)\n",
    "plt.show()"
   ]
  },
  {
   "cell_type": "markdown",
   "source": [
    "Die stetig steigenden Preise haben einige hohe Ausreisser, wie man in den Jahren '15 zu '16, von '18 zu '19 und auch von '21 zu '22 beobachten kann."
   ],
   "metadata": {
    "collapsed": false
   },
   "id": "610d05bab892ebd5"
  },
  {
   "cell_type": "markdown",
   "id": "edf92afc0a15ba6d",
   "metadata": {
    "collapsed": false
   },
   "source": [
    "### Datasource 3 - Historical population total "
   ]
  },
  {
   "cell_type": "markdown",
   "source": [
    "#### Load Data"
   ],
   "metadata": {
    "collapsed": false
   },
   "id": "c38408eeea80cc20"
  },
  {
   "cell_type": "markdown",
   "source": [
    "Zuerst machen wir einen API Call zu Eurostat, wo wir uns eine Antwort im JSON Format erwarten und haben einen ersten Blick auf die Daten:"
   ],
   "metadata": {
    "collapsed": false
   },
   "id": "bbbc7474dd9d11a9"
  },
  {
   "cell_type": "code",
   "execution_count": 49,
   "id": "b1e35c0c5e7794c2",
   "metadata": {
    "collapsed": false,
    "ExecuteTime": {
     "end_time": "2024-06-14T15:53:08.398887Z",
     "start_time": "2024-06-14T15:53:06.092731Z"
    }
   },
   "outputs": [
    {
     "name": "stdout",
     "output_type": "stream",
     "text": [
      "{\n",
      "    \"version\": \"2.0\",\n",
      "    \"class\": \"dataset\",\n",
      "    \"label\": \"Population on 1 January by age, sex and NUTS 2 region\",\n",
      "    \"source\": \"ESTAT\",\n",
      "    \"updated\": \"2024-05-16T23:00:00+0200\",\n",
      "    \"value\": {\n",
      "        \"0\": 8584926,\n",
      "        \"1\": 8700471,\n",
      "        \"2\": 8772865,\n",
      "        \"3\": 8822267,\n",
      "        \"4\": 8858775,\n",
      "        \"5\": 8901064,\n",
      "        \"6\": 8932664,\n",
      "        \"7\": 8978929,\n",
      "        \"8\": 9104772,\n",
      "        \"9\": 3722471,\n",
      "        \"10\": 3784928,\n",
      "        \"11\": 3825277,\n",
      "        \"12\": 3852119,\n",
      "        \"13\": 3868466,\n",
      "        \"14\": 3889914,\n",
      "        \"15\": 3907838,\n",
      "        \"16\": 3927972,\n",
      "        \"17\": 4001720,\n",
      "        \"18\": 288356,\n",
      "        \"19\": 291011,\n",
      "        \"20\": 291942,\n",
      "        \"21\": 292675,\n",
      "        \"22\": 293433,\n",
      "        \"23\": 294436,\n",
      "        \"24\": 296010,\n",
      "        \"25\": 297583,\n",
      "        \"26\": 301250,\n",
      "        \"27\": 1636778,\n",
      "        \"28\": 1653691,\n",
      "        \"29\": 1665753,\n",
      "        \"30\": 1670668,\n",
      "        \"31\": 1677542,\n",
      "        \"32\": 1684287,\n",
      "        \"33\": 1690879,\n",
      "        \"34\": 1698796,\n",
      "        \"35\": 1718373,\n",
      "        \"36\": 1797337,\n",
      "        \"37\": 1840226,\n",
      "        \"38\": 1867582,\n",
      "        \"39\": 1888776,\n",
      "        \"40\": 1897491,\n",
      "        \"41\": 1911191,\n",
      "        \"42\": 1920949,\n",
      "        \"43\": 1931593,\n",
      "        \"44\": 1982097,\n",
      "        \"45\": 1779211,\n",
      "        \"46\": 1792494,\n",
      "        \"47\": 1798375,\n",
      "        \"48\": 1801112,\n",
      "        \"49\": 1803991,\n",
      "        \"50\": 1807688,\n",
      "        \"51\": 1809166,\n",
      "        \"52\": 1817435,\n",
      "        \"53\": 1834182,\n",
      "        \"54\": 557641,\n",
      "        \"55\": 560482,\n",
      "        \"56\": 561077,\n",
      "        \"57\": 560898,\n",
      "        \"58\": 560939,\n",
      "        \"59\": 561293,\n",
      "        \"60\": 562089,\n",
      "        \"61\": 564513,\n",
      "        \"62\": 568984,\n",
      "        \"63\": 1221570,\n",
      "        \"64\": 1232012,\n",
      "        \"65\": 1237298,\n",
      "        \"66\": 1240214,\n",
      "        \"67\": 1243052,\n",
      "        \"68\": 1246395,\n",
      "        \"69\": 1247077,\n",
      "        \"70\": 1252922,\n",
      "        \"71\": 1265198,\n",
      "        \"72\": 3083244,\n",
      "        \"73\": 3123049,\n",
      "        \"74\": 3149213,\n",
      "        \"75\": 3169036,\n",
      "        \"76\": 3186318,\n",
      "        \"77\": 3203462,\n",
      "        \"78\": 3215660,\n",
      "        \"79\": 3233522,\n",
      "        \"80\": 3268870,\n",
      "        \"81\": 1437251,\n",
      "        \"82\": 1453948,\n",
      "        \"83\": 1465045,\n",
      "        \"84\": 1473576,\n",
      "        \"85\": 1482095,\n",
      "        \"86\": 1490279,\n",
      "        \"87\": 1495608,\n",
      "        \"88\": 1505140,\n",
      "        \"89\": 1522825,\n",
      "        \"90\": 538575,\n",
      "        \"91\": 545815,\n",
      "        \"92\": 549263,\n",
      "        \"93\": 552579,\n",
      "        \"94\": 555221,\n",
      "        \"95\": 558410,\n",
      "        \"96\": 560710,\n",
      "        \"97\": 562606,\n",
      "        \"98\": 568346,\n",
      "        \"99\": 728826,\n",
      "        \"100\": 739139,\n",
      "        \"101\": 746153,\n",
      "        \"102\": 751140,\n",
      "        \"103\": 754705,\n",
      "        \"104\": 757634,\n",
      "        \"105\": 760105,\n",
      "        \"106\": 764102,\n",
      "        \"107\": 771304,\n",
      "        \"108\": 378592,\n",
      "        \"109\": 384147,\n",
      "        \"110\": 388752,\n",
      "        \"111\": 391741,\n",
      "        \"112\": 394297,\n",
      "        \"113\": 397139,\n",
      "        \"114\": 399237,\n",
      "        \"115\": 401674,\n",
      "        \"116\": 406395\n",
      "    },\n",
      "    \"id\": [\n",
      "        \"freq\",\n",
      "        \"unit\",\n",
      "        \"sex\",\n",
      "        \"age\",\n",
      "        \"geo\",\n",
      "        \"time\"\n",
      "    ],\n",
      "    \"size\": [\n",
      "        1,\n",
      "        1,\n",
      "        1,\n",
      "        1,\n",
      "        13,\n",
      "        9\n",
      "    ],\n",
      "    \"dimension\": {\n",
      "        \"freq\": {\n",
      "            \"label\": \"Time frequency\",\n",
      "            \"category\": {\n",
      "                \"index\": {\n",
      "                    \"A\": 0\n",
      "                },\n",
      "                \"label\": {\n",
      "                    \"A\": \"Annual\"\n",
      "                }\n",
      "            }\n",
      "        },\n",
      "        \"unit\": {\n",
      "            \"label\": \"Unit of measure\",\n",
      "            \"category\": {\n",
      "                \"index\": {\n",
      "                    \"NR\": 0\n",
      "                },\n",
      "                \"label\": {\n",
      "                    \"NR\": \"Number\"\n",
      "                }\n",
      "            }\n",
      "        },\n",
      "        \"sex\": {\n",
      "            \"label\": \"Sex\",\n",
      "            \"category\": {\n",
      "                \"index\": {\n",
      "                    \"T\": 0\n",
      "                },\n",
      "                \"label\": {\n",
      "                    \"T\": \"Total\"\n",
      "                }\n",
      "            }\n",
      "        },\n",
      "        \"age\": {\n",
      "            \"label\": \"Age class\",\n",
      "            \"category\": {\n",
      "                \"index\": {\n",
      "                    \"TOTAL\": 0\n",
      "                },\n",
      "                \"label\": {\n",
      "                    \"TOTAL\": \"Total\"\n",
      "                }\n",
      "            }\n",
      "        },\n",
      "        \"geo\": {\n",
      "            \"label\": \"Geopolitical entity (reporting)\",\n",
      "            \"category\": {\n",
      "                \"index\": {\n",
      "                    \"AT\": 0,\n",
      "                    \"AT1\": 1,\n",
      "                    \"AT11\": 2,\n",
      "                    \"AT12\": 3,\n",
      "                    \"AT13\": 4,\n",
      "                    \"AT2\": 5,\n",
      "                    \"AT21\": 6,\n",
      "                    \"AT22\": 7,\n",
      "                    \"AT3\": 8,\n",
      "                    \"AT31\": 9,\n",
      "                    \"AT32\": 10,\n",
      "                    \"AT33\": 11,\n",
      "                    \"AT34\": 12\n",
      "                },\n",
      "                \"label\": {\n",
      "                    \"AT\": \"Austria\",\n",
      "                    \"AT1\": \"Ost\\u00f6sterreich\",\n",
      "                    \"AT11\": \"Burgenland\",\n",
      "                    \"AT12\": \"Nieder\\u00f6sterreich\",\n",
      "                    \"AT13\": \"Wien\",\n",
      "                    \"AT2\": \"S\\u00fcd\\u00f6sterreich\",\n",
      "                    \"AT21\": \"K\\u00e4rnten\",\n",
      "                    \"AT22\": \"Steiermark\",\n",
      "                    \"AT3\": \"West\\u00f6sterreich\",\n",
      "                    \"AT31\": \"Ober\\u00f6sterreich\",\n",
      "                    \"AT32\": \"Salzburg\",\n",
      "                    \"AT33\": \"Tirol\",\n",
      "                    \"AT34\": \"Vorarlberg\"\n",
      "                }\n",
      "            }\n",
      "        },\n",
      "        \"time\": {\n",
      "            \"label\": \"Time\",\n",
      "            \"category\": {\n",
      "                \"index\": {\n",
      "                    \"2015\": 0,\n",
      "                    \"2016\": 1,\n",
      "                    \"2017\": 2,\n",
      "                    \"2018\": 3,\n",
      "                    \"2019\": 4,\n",
      "                    \"2020\": 5,\n",
      "                    \"2021\": 6,\n",
      "                    \"2022\": 7,\n",
      "                    \"2023\": 8\n",
      "                },\n",
      "                \"label\": {\n",
      "                    \"2015\": \"2015\",\n",
      "                    \"2016\": \"2016\",\n",
      "                    \"2017\": \"2017\",\n",
      "                    \"2018\": \"2018\",\n",
      "                    \"2019\": \"2019\",\n",
      "                    \"2020\": \"2020\",\n",
      "                    \"2021\": \"2021\",\n",
      "                    \"2022\": \"2022\",\n",
      "                    \"2023\": \"2023\"\n",
      "                }\n",
      "            }\n",
      "        }\n",
      "    },\n",
      "    \"extension\": {\n",
      "        \"lang\": \"EN\",\n",
      "        \"id\": \"DEMO_R_D2JAN\",\n",
      "        \"agencyId\": \"ESTAT\",\n",
      "        \"version\": \"1.0\",\n",
      "        \"datastructure\": {\n",
      "            \"id\": \"DEMO_R_D2JAN\",\n",
      "            \"agencyId\": \"ESTAT\",\n",
      "            \"version\": \"34.1\"\n",
      "        },\n",
      "        \"annotation\": [\n",
      "            {\n",
      "                \"type\": \"CREATED\",\n",
      "                \"date\": \"2013-03-19T17:09:44+0100\"\n",
      "            },\n",
      "            {\n",
      "                \"type\": \"DISSEMINATION_DOI_XML\",\n",
      "                \"title\": \"<adms:identifier xmlns:adms=\\\"http://www.w3.org/ns/adms#\\\" xmlns:skos=\\\"http://www.w3.org/2004/02/skos/core.html\\\" xmlns:dct=\\\"http://purl.org/dc/terms/\\\" xmlns:rdf=\\\"http://www.w3.org/1999/02/22-rdf-syntax-ns#\\\"><adms:Identifier rdf:about=\\\"https://doi.org/10.2908/DEMO_R_D2JAN\\\"><skos:notation rdf:datatype=\\\"http://purl.org/spar/datacite/doi\\\">10.2908/DEMO_R_D2JAN</skos:notation><dct:creator rdf:resource=\\\"http://publications.europa.eu/resource/authority/corporate-body/ESTAT\\\"/><dct:issued rdf:datatype=\\\"http://www.w3.org/2001/XMLSchema#date\\\">2023-01-19</dct:issued></adms:Identifier></adms:identifier>\"\n",
      "            },\n",
      "            {\n",
      "                \"type\": \"DISSEMINATION_OBJECT_TYPE\",\n",
      "                \"title\": \"DATASET\"\n",
      "            },\n",
      "            {\n",
      "                \"type\": \"ESMS_HTML\",\n",
      "                \"title\": \"Explanatory texts (metadata)\",\n",
      "                \"href\": \"https://ec.europa.eu/eurostat/cache/metadata/en/demo_r_gind3_esms.htm\"\n",
      "            },\n",
      "            {\n",
      "                \"type\": \"ESMS_SDMX\",\n",
      "                \"title\": \"Explanatory texts (metadata)\",\n",
      "                \"href\": \"https://ec.europa.eu/eurostat/api/dissemination/files?file=metadata/demo_r_gind3_esms.sdmx.zip\"\n",
      "            },\n",
      "            {\n",
      "                \"type\": \"OBS_COUNT\",\n",
      "                \"title\": \"4391644\"\n",
      "            },\n",
      "            {\n",
      "                \"type\": \"OBS_PERIOD_OVERALL_LATEST\",\n",
      "                \"title\": \"2023\"\n",
      "            },\n",
      "            {\n",
      "                \"type\": \"OBS_PERIOD_OVERALL_OLDEST\",\n",
      "                \"title\": \"1990\"\n",
      "            },\n",
      "            {\n",
      "                \"type\": \"SOURCE_INSTITUTIONS\",\n",
      "                \"text\": \"Eurostat\"\n",
      "            },\n",
      "            {\n",
      "                \"type\": \"UPDATE_DATA\",\n",
      "                \"date\": \"2024-05-16T23:00:00+0200\"\n",
      "            },\n",
      "            {\n",
      "                \"type\": \"UPDATE_STRUCTURE\",\n",
      "                \"date\": \"2024-02-02T23:00:00+0100\"\n",
      "            }\n",
      "        ],\n",
      "        \"positions-with-no-data\": {\n",
      "            \"freq\": [],\n",
      "            \"unit\": [],\n",
      "            \"sex\": [],\n",
      "            \"age\": [],\n",
      "            \"geo\": [],\n",
      "            \"time\": []\n",
      "        }\n",
      "    }\n",
      "}\n"
     ]
    }
   ],
   "source": [
    "url_population = \"https://ec.europa.eu/eurostat/api/dissemination/statistics/1.0/data/demo_r_d2jan?format=JSON&time=2015&time=2016&time=2017&time=2018&time=2019&time=2020&time=2021&time=2022&time=2023&geo=AT&geo=AT1&geo=AT11&geo=AT12&geo=AT13&geo=AT2&geo=AT21&geo=AT22&geo=AT3&geo=AT31&geo=AT32&geo=AT33&geo=AT34&unit=NR&sex=T&age=TOTAL&lang=en\"\n",
    "response = requests.get(url_population)\n",
    "data = response.json()\n",
    "print(json.dumps(data, indent=4))"
   ]
  },
  {
   "cell_type": "markdown",
   "source": [
    "Wie man sehen kann, haben wir einen Haufen Daten, den wir erst vernünftig für unser Vorhaben strukturieren müssen:"
   ],
   "metadata": {
    "collapsed": false
   },
   "id": "666e44854901cd75"
  },
  {
   "cell_type": "code",
   "execution_count": 51,
   "id": "4430c470d0b97ad2",
   "metadata": {
    "collapsed": false,
    "ExecuteTime": {
     "end_time": "2024-06-14T15:57:47.965447Z",
     "start_time": "2024-06-14T15:57:47.951466Z"
    }
   },
   "outputs": [],
   "source": [
    "pd.set_option('display.max_rows', None)\n",
    "# Extrahiert die Jahre aus den JSON-Daten und speichert sie in der Variablen years\n",
    "years = data['dimension']['time']['category']['label'].keys()\n",
    "# Erstellen der Listen regions und geocodes\n",
    "regions = []\n",
    "geocodes = []\n",
    "# Befüllen der Listen\n",
    "for x in data['dimension']['geo']['category']['label'].values():\n",
    "    for y in range(9):\n",
    "        regions.append(x)\n",
    "\n",
    "for x in data['dimension']['geo']['category']['label'].keys():\n",
    "    for y in range(9):\n",
    "        geocodes.append(x)\n",
    "\n",
    "# Erstellen eines DataFrames \n",
    "population = pd.DataFrame(\n",
    "    {'GeoCode' : geocodes,\n",
    "     'Region' : regions,\n",
    "     'Year': list(years) * 13, #  wiederholt für jede Region\n",
    "     'Population': list(data['value'].values())\n",
    "     }\n",
    ")"
   ]
  },
  {
   "cell_type": "code",
   "outputs": [
    {
     "name": "stdout",
     "output_type": "stream",
     "text": [
      "    GeoCode            Region  Year  Population\n",
      "0        AT           Austria  2015     8584926\n",
      "1        AT           Austria  2016     8700471\n",
      "2        AT           Austria  2017     8772865\n",
      "3        AT           Austria  2018     8822267\n",
      "4        AT           Austria  2019     8858775\n",
      "5        AT           Austria  2020     8901064\n",
      "6        AT           Austria  2021     8932664\n",
      "7        AT           Austria  2022     8978929\n",
      "8        AT           Austria  2023     9104772\n",
      "9       AT1     Ostösterreich  2015     3722471\n",
      "10      AT1     Ostösterreich  2016     3784928\n",
      "11      AT1     Ostösterreich  2017     3825277\n",
      "12      AT1     Ostösterreich  2018     3852119\n",
      "13      AT1     Ostösterreich  2019     3868466\n",
      "14      AT1     Ostösterreich  2020     3889914\n",
      "15      AT1     Ostösterreich  2021     3907838\n",
      "16      AT1     Ostösterreich  2022     3927972\n",
      "17      AT1     Ostösterreich  2023     4001720\n",
      "18     AT11        Burgenland  2015      288356\n",
      "19     AT11        Burgenland  2016      291011\n",
      "20     AT11        Burgenland  2017      291942\n",
      "21     AT11        Burgenland  2018      292675\n",
      "22     AT11        Burgenland  2019      293433\n",
      "23     AT11        Burgenland  2020      294436\n",
      "24     AT11        Burgenland  2021      296010\n",
      "25     AT11        Burgenland  2022      297583\n",
      "26     AT11        Burgenland  2023      301250\n",
      "27     AT12  Niederösterreich  2015     1636778\n",
      "28     AT12  Niederösterreich  2016     1653691\n",
      "29     AT12  Niederösterreich  2017     1665753\n",
      "30     AT12  Niederösterreich  2018     1670668\n",
      "31     AT12  Niederösterreich  2019     1677542\n",
      "32     AT12  Niederösterreich  2020     1684287\n",
      "33     AT12  Niederösterreich  2021     1690879\n",
      "34     AT12  Niederösterreich  2022     1698796\n",
      "35     AT12  Niederösterreich  2023     1718373\n",
      "36     AT13              Wien  2015     1797337\n",
      "37     AT13              Wien  2016     1840226\n",
      "38     AT13              Wien  2017     1867582\n",
      "39     AT13              Wien  2018     1888776\n",
      "40     AT13              Wien  2019     1897491\n",
      "41     AT13              Wien  2020     1911191\n",
      "42     AT13              Wien  2021     1920949\n",
      "43     AT13              Wien  2022     1931593\n",
      "44     AT13              Wien  2023     1982097\n",
      "45      AT2     Südösterreich  2015     1779211\n",
      "46      AT2     Südösterreich  2016     1792494\n",
      "47      AT2     Südösterreich  2017     1798375\n",
      "48      AT2     Südösterreich  2018     1801112\n",
      "49      AT2     Südösterreich  2019     1803991\n",
      "50      AT2     Südösterreich  2020     1807688\n",
      "51      AT2     Südösterreich  2021     1809166\n",
      "52      AT2     Südösterreich  2022     1817435\n",
      "53      AT2     Südösterreich  2023     1834182\n",
      "54     AT21           Kärnten  2015      557641\n",
      "55     AT21           Kärnten  2016      560482\n",
      "56     AT21           Kärnten  2017      561077\n",
      "57     AT21           Kärnten  2018      560898\n",
      "58     AT21           Kärnten  2019      560939\n",
      "59     AT21           Kärnten  2020      561293\n",
      "60     AT21           Kärnten  2021      562089\n",
      "61     AT21           Kärnten  2022      564513\n",
      "62     AT21           Kärnten  2023      568984\n",
      "63     AT22        Steiermark  2015     1221570\n",
      "64     AT22        Steiermark  2016     1232012\n",
      "65     AT22        Steiermark  2017     1237298\n",
      "66     AT22        Steiermark  2018     1240214\n",
      "67     AT22        Steiermark  2019     1243052\n",
      "68     AT22        Steiermark  2020     1246395\n",
      "69     AT22        Steiermark  2021     1247077\n",
      "70     AT22        Steiermark  2022     1252922\n",
      "71     AT22        Steiermark  2023     1265198\n",
      "72      AT3    Westösterreich  2015     3083244\n",
      "73      AT3    Westösterreich  2016     3123049\n",
      "74      AT3    Westösterreich  2017     3149213\n",
      "75      AT3    Westösterreich  2018     3169036\n",
      "76      AT3    Westösterreich  2019     3186318\n",
      "77      AT3    Westösterreich  2020     3203462\n",
      "78      AT3    Westösterreich  2021     3215660\n",
      "79      AT3    Westösterreich  2022     3233522\n",
      "80      AT3    Westösterreich  2023     3268870\n",
      "81     AT31    Oberösterreich  2015     1437251\n",
      "82     AT31    Oberösterreich  2016     1453948\n",
      "83     AT31    Oberösterreich  2017     1465045\n",
      "84     AT31    Oberösterreich  2018     1473576\n",
      "85     AT31    Oberösterreich  2019     1482095\n",
      "86     AT31    Oberösterreich  2020     1490279\n",
      "87     AT31    Oberösterreich  2021     1495608\n",
      "88     AT31    Oberösterreich  2022     1505140\n",
      "89     AT31    Oberösterreich  2023     1522825\n",
      "90     AT32          Salzburg  2015      538575\n",
      "91     AT32          Salzburg  2016      545815\n",
      "92     AT32          Salzburg  2017      549263\n",
      "93     AT32          Salzburg  2018      552579\n",
      "94     AT32          Salzburg  2019      555221\n",
      "95     AT32          Salzburg  2020      558410\n",
      "96     AT32          Salzburg  2021      560710\n",
      "97     AT32          Salzburg  2022      562606\n",
      "98     AT32          Salzburg  2023      568346\n",
      "99     AT33             Tirol  2015      728826\n",
      "100    AT33             Tirol  2016      739139\n",
      "101    AT33             Tirol  2017      746153\n",
      "102    AT33             Tirol  2018      751140\n",
      "103    AT33             Tirol  2019      754705\n",
      "104    AT33             Tirol  2020      757634\n",
      "105    AT33             Tirol  2021      760105\n",
      "106    AT33             Tirol  2022      764102\n",
      "107    AT33             Tirol  2023      771304\n",
      "108    AT34        Vorarlberg  2015      378592\n",
      "109    AT34        Vorarlberg  2016      384147\n",
      "110    AT34        Vorarlberg  2017      388752\n",
      "111    AT34        Vorarlberg  2018      391741\n",
      "112    AT34        Vorarlberg  2019      394297\n",
      "113    AT34        Vorarlberg  2020      397139\n",
      "114    AT34        Vorarlberg  2021      399237\n",
      "115    AT34        Vorarlberg  2022      401674\n",
      "116    AT34        Vorarlberg  2023      406395\n"
     ]
    }
   ],
   "source": [
    "print(population)"
   ],
   "metadata": {
    "collapsed": false,
    "ExecuteTime": {
     "end_time": "2024-06-14T15:58:18.914856Z",
     "start_time": "2024-06-14T15:58:18.895138Z"
    }
   },
   "id": "32007f6f931ff6f9",
   "execution_count": 54
  },
  {
   "cell_type": "markdown",
   "source": [
    "Damit haben wir erfolgreich die Daten für alle Regionen in Österreich, für alle Jahre die wir benötigen, extrahiert. Für unser Vorhaben wollen wir uns nur auf \"Wien\" konzentrieren:"
   ],
   "metadata": {
    "collapsed": false
   },
   "id": "2d1602a0fee19075"
  },
  {
   "cell_type": "code",
   "execution_count": 55,
   "id": "5f7d3941b1511762",
   "metadata": {
    "collapsed": false,
    "ExecuteTime": {
     "end_time": "2024-06-14T16:01:38.255538Z",
     "start_time": "2024-06-14T16:01:38.239736Z"
    }
   },
   "outputs": [
    {
     "name": "stdout",
     "output_type": "stream",
     "text": [
      "   GeoCode Region  Year  Population\n",
      "36    AT13   Wien  2015     1797337\n",
      "37    AT13   Wien  2016     1840226\n",
      "38    AT13   Wien  2017     1867582\n",
      "39    AT13   Wien  2018     1888776\n",
      "40    AT13   Wien  2019     1897491\n",
      "41    AT13   Wien  2020     1911191\n",
      "42    AT13   Wien  2021     1920949\n",
      "43    AT13   Wien  2022     1931593\n",
      "44    AT13   Wien  2023     1982097\n"
     ]
    }
   ],
   "source": [
    "vienna_population = population[population['Region'] == 'Wien']\n",
    "\n",
    "print(vienna_population)"
   ]
  },
  {
   "cell_type": "markdown",
   "source": [
    "Zu guter Letzt, löschen wir die Spalte \"GeoCode\" und fügen stattdessen die prozentuellen Veränderungen pro Jahr hinzu:"
   ],
   "metadata": {
    "collapsed": false
   },
   "id": "2c55b68f2e55dd33"
  },
  {
   "cell_type": "code",
   "outputs": [
    {
     "name": "stdout",
     "output_type": "stream",
     "text": [
      "   Region  Year  Population  Percentage Change\n",
      "36   Wien  2015     1797337                NaN\n",
      "37   Wien  2016     1840226           2.386253\n",
      "38   Wien  2017     1867582           1.486557\n",
      "39   Wien  2018     1888776           1.134836\n",
      "40   Wien  2019     1897491           0.461410\n",
      "41   Wien  2020     1911191           0.722006\n",
      "42   Wien  2021     1920949           0.510572\n",
      "43   Wien  2022     1931593           0.554101\n",
      "44   Wien  2023     1982097           2.614629\n"
     ]
    }
   ],
   "source": [
    "population = vienna_population.drop(columns=['GeoCode'])\n",
    "\n",
    "population['Percentage Change'] = population['Population'].pct_change() * 100\n",
    "\n",
    "print(population)"
   ],
   "metadata": {
    "collapsed": false,
    "ExecuteTime": {
     "end_time": "2024-06-14T16:02:55.082664Z",
     "start_time": "2024-06-14T16:02:55.065925Z"
    }
   },
   "id": "e9db53ee6652ed49",
   "execution_count": 57
  },
  {
   "cell_type": "markdown",
   "source": [
    "Nun nutzen wir dies als Basis für unsere Visualisierungen und tauchen tiefer in die Daten ein:"
   ],
   "metadata": {
    "collapsed": false
   },
   "id": "b7e9c86ea16994a4"
  },
  {
   "cell_type": "markdown",
   "id": "c6085889-f881-4da7-a6f6-f1459d0cf5a1",
   "metadata": {},
   "source": [
    "#### Analysis"
   ]
  },
  {
   "cell_type": "markdown",
   "id": "c77914b4-8335-4831-b789-400c4e134b66",
   "metadata": {},
   "source": [
    "Wir visualisieren die Bevölkerungsentwicklung nun als Liniendiagramm:"
   ]
  },
  {
   "cell_type": "code",
   "execution_count": 74,
   "id": "7ed9f944-5466-48e8-860c-f6d4184fb0e8",
   "metadata": {},
   "outputs": [
    {
     "data": {
      "image/png": "[encoded data removed]",
      "text/plain": [
       "<Figure size 640x480 with 1 Axes>"
      ]
     },
     "metadata": {},
     "output_type": "display_data"
    }
   ],
   "source": [
    "plt.plot(population['Year'], population['Population'], marker='o', label='Population')\n",
    "plt.xlabel('Year')\n",
    "plt.ylabel('Population in Vienna')\n",
    "plt.title('Population in Vienna over Years')\n",
    "plt.grid(True)\n",
    "plt.legend()\n",
    "plt.show()"
   ]
  },
  {
   "cell_type": "markdown",
   "id": "4a82944b-6341-45b0-a153-6dd02f08f340",
   "metadata": {},
   "source": [
    "Als erstes muss festgestellt werden, dass wir hier keine Daten für 2024 haben, dafür jedoch Daten von 2023, welche ebenfalls einen signifikanten Anstieg in diesem Jahr darstellen. Zuvor schien das Bevölkerungswachstum ein wenig abzuflachen und nach einem starken Wachstum in den Jahren von 2015 bis 2018 fiel es zwischen 2018 und 2022 nicht so stark aus."
   ]
  },
  {
   "cell_type": "markdown",
   "id": "84b7f139-2532-4956-8ad1-cac558872649",
   "metadata": {},
   "source": [
    "## Gerneral Analysis"
   ]
  },
  {
   "cell_type": "markdown",
   "id": "beb7aa8b-bc73-4711-adc2-70ab9c97b468",
   "metadata": {},
   "source": [
    "### Cost of real estate (2015 - 2024)"
   ]
  },
  {
   "cell_type": "markdown",
   "id": "0015a4b8-6ca7-48f5-a1e3-0bf601d5917e",
   "metadata": {},
   "source": [
    "Zuerst kombinieren wir die historischen Kosten für Eigentum (2015-2022) mit den aktuellen. "
   ]
  },
  {
   "cell_type": "code",
   "execution_count": 70,
   "id": "1d5af328-13a1-4918-a686-906460f602ba",
   "metadata": {},
   "outputs": [
    {
     "name": "stdout",
     "output_type": "stream",
     "text": [
      "   Year         Mean  Percentage Change\n",
      "0  2015  2948.181818                NaN\n",
      "1  2016  4577.369565          55.260762\n",
      "2  2017  4910.804348           7.284419\n",
      "3  2018  5108.978261           4.035467\n",
      "4  2019  5667.304348          10.928332\n",
      "5  2020  5947.521739           4.944456\n",
      "6  2021  6311.673913           6.122755\n",
      "7  2022  6994.673913          10.821218\n",
      "8  2024  6795.000000                NaN\n"
     ]
    },
    {
     "name": "stderr",
     "output_type": "stream",
     "text": [
      "C:\\Users\\benni\\AppData\\Local\\Temp\\ipykernel_23408\\747221787.py:8: FutureWarning: The behavior of DataFrame concatenation with empty or all-NA entries is deprecated. In a future version, this will no longer exclude empty or all-NA columns when determining the result dtypes. To retain the old behavior, exclude the relevant entries before the concat operation.\n",
      "  all_results = pd.concat([results_df, val_2024], ignore_index=True)\n"
     ]
    }
   ],
   "source": [
    "#Median von CSV/Kafka importieren\n",
    "median_2024 = df_median.collect()[0][0]\n",
    "\n",
    "# Die neue Zeile für 2024 erstellen\n",
    "val_2024 = pd.DataFrame({'Year': [2024], 'Mean': [median_2024], 'Percentage Change': [None]})\n",
    "\n",
    "# Zeile zum DataFrame hinzufügen\n",
    "all_results = pd.concat([results_df, val_2024], ignore_index=True)\n",
    "\n",
    "# DataFrame anzeigen\n",
    "print(all_results)\n",
    "\n",
    "#Fehlermeldung kann ignoriert werden."
   ]
  },
  {
   "cell_type": "code",
   "execution_count": 71,
   "id": "6fc838cc-46f5-46fe-9139-359625c439ed",
   "metadata": {},
   "outputs": [
    {
     "data": {
      "image/png": "[encoded data removed]",
      "text/plain": [
       "<Figure size 640x480 with 1 Axes>"
      ]
     },
     "metadata": {},
     "output_type": "display_data"
    }
   ],
   "source": [
    "plt.plot(all_results['Year'], all_results['Mean'], marker='o', label='Mean')\n",
    "plt.xlabel('Year')\n",
    "plt.ylabel('Mean Value')\n",
    "plt.title('Mean Value Over Years')\n",
    "plt.grid(True)\n",
    "plt.legend()\n",
    "plt.show()"
   ]
  },
  {
   "cell_type": "markdown",
   "id": "a4a10eee-2356-40c9-b883-fd090aeedac6",
   "metadata": {},
   "source": [
    "Es zeigt sich das die aktuellen Daten auf einen leichten Abfall nach 2022 hindeuten. Zuvor stiegen der Median der Eigentumskosten pro m² kontinuirlich an. Der stärkste Anstieg ist ganz am Anfang der Daten von 2015 auf 2016 zu erkennen. Danach folgte ein kontinuirlicher Anstieg, welcher laut diesen Daten 2022 zum Stoppen kam und sich in einen leichten Abfall für 2024 umwandelte."
   ]
  },
  {
   "cell_type": "markdown",
   "id": "57a30d74-ca56-44c1-9c22-290581fac93d",
   "metadata": {},
   "source": [
    "### Comparison with population growth"
   ]
  },
  {
   "cell_type": "markdown",
   "id": "9fb99750-2524-48f8-863d-fd800fd1a545",
   "metadata": {},
   "source": [
    "Nun vergleichen wir den Wachstum der Bevölkerung mit dem Anstieg der durchschnittlichen Eigentumskosten."
   ]
  },
  {
   "cell_type": "code",
   "execution_count": 75,
   "id": "648efe32-4692-4a32-9d88-9afbe3caf999",
   "metadata": {},
   "outputs": [
    {
     "data": {
      "image/png": "[encoded data removed]",
      "text/plain": [
       "<Figure size 640x480 with 2 Axes>"
      ]
     },
     "metadata": {},
     "output_type": "display_data"
    }
   ],
   "source": [
    "fig, ax = plt.subplots()\n",
    "\n",
    "ax.plot(population['Year'], population['Population'], marker='o', label='Population')\n",
    "ax.set_xlabel('Year')\n",
    "ax.set_ylabel('Population in Vienna')\n",
    "\n",
    "ax2 = ax.twinx()\n",
    "\n",
    "ax2.plot(all_results['Year'], all_results['Mean'], marker='o', label='Mean of property cost', color='orange')\n",
    "ax2.set_ylabel('Mean Value')\n",
    "\n",
    "ax.legend(loc='upper left', bbox_to_anchor=(0, -0.1))\n",
    "ax2.legend(loc='upper left', bbox_to_anchor=(0, -0.2))\n",
    "\n",
    "plt.title('Population and Property Cost Over Years')\n",
    "\n",
    "plt.show()"
   ]
  },
  {
   "cell_type": "markdown",
   "id": "d4d8d3e1-fa42-4aed-b347-4d6a29fe12ff",
   "metadata": {},
   "source": [
    "Während anfangs die Eigentumskosten stärker als die Bevölkerung anstieg konnte das Bevölkerungswachstum im Jahr 2023 gepaart mit dem leichten Abfall der Eigentumskosten im Jahr 2024 dafür sorgen das über den gesamten Beobachtungszeitraum beide Anstiege in etwa gleich stark sind. Da die Anstiege innerhalb dieses Zeitraums jedoch zu unterschiedlichen Zeitpunkten erfolgt sind, heißt dies noch nicht zwangsläufig dass es sich hier auch um eine nachgewiesene Korrelation zwischen den beiden Werten handelt."
   ]
  },
  {
   "cell_type": "markdown",
   "id": "80c7bcbd-9dad-48ff-b1fe-97c5bc0035e5",
   "metadata": {},
   "source": [
    "## Conclusion"
   ]
  },
  {
   "cell_type": "markdown",
   "id": "0f8ff46e-3b82-4a33-a7fe-745f6b545926",
   "metadata": {},
   "source": [
    "Die Daten zeigen, dass es in den letzten 9 Jahren einen klaren Anstieg an Einwohnern und Eigentumskosten in der Bundeshauptstadt Wien gegeben hat. Dies hat diverse Gründe, welche nicht teil dieser Untersuchung sind und waren. Da diese Anstiege zumindest in Höhe ungefähr gleich stark sind, ist eine Korrelation nicht ausgeschlossen, sondern sogar wahrscheinlich. Dagegen würde jedoch sprechen, dass im Laufe dieser Jahre der Anstieg indivduell unterschiedlich ausgefallen ist und erst durch das starke Bevölkerungswachstum in 2023 und der Rückgang der Eigentumskosten im Jahr 2024 dafür gesorgt haben, dass die jeweiligen Anstiege in Summe ungefähr gleich stark ausfallen.\n",
    "Auch muss für eine weitere Analyse berücksichtigt werden, dass die Datenquellen der Daten von 2024 und 2015-2022 unterschiedlich sind. Es kann durch diverse Faktoren dazu kommen, dass die eine oder die andere Datenquelle in eine gewisse Richtung verzerrt."
   ]
  },
  {
   "cell_type": "markdown",
   "id": "0f341750-c799-498b-8b3d-1d4da6ee91db",
   "metadata": {},
   "source": [
    "## Closing"
   ]
  },
  {
   "cell_type": "code",
   "execution_count": 36,
   "id": "e3549f6d-da71-4948-aae6-07fb916601ca",
   "metadata": {},
   "outputs": [],
   "source": [
    "spark.stop()"
   ]
  },
  {
   "cell_type": "markdown",
   "source": [
    "## Documentation"
   ],
   "metadata": {
    "collapsed": false
   },
   "id": "83af51bf37ed1f8"
  },
  {
   "cell_type": "markdown",
   "source": [
    "### Git Benni"
   ],
   "metadata": {
    "collapsed": false
   },
   "id": "c0b592f53341ace1"
  },
  {
   "cell_type": "markdown",
   "source": [
    "Versionierung, Workflow, Code Reviews"
   ],
   "metadata": {
    "collapsed": false
   },
   "id": "b9105e7913bea395"
  },
  {
   "cell_type": "markdown",
   "source": [
    "### Spark Benni"
   ],
   "metadata": {
    "collapsed": false
   },
   "id": "1e2ce2e01afdeb3f"
  },
  {
   "cell_type": "markdown",
   "source": [
    "große Datenmengen"
   ],
   "metadata": {
    "collapsed": false
   },
   "id": "42fd47d1cf177c9"
  },
  {
   "cell_type": "markdown",
   "source": [
    "### Kafka Benni"
   ],
   "metadata": {
    "collapsed": false
   },
   "id": "2f638a399bdd1b82"
  },
  {
   "cell_type": "markdown",
   "source": [
    "offen für weiter Datensourcen (aktuellen Eigentumspreisen 2024) theoretisch von mehreren Webseiten scrapen und uns einen besseren Überblick verschaffen (skalierbar)"
   ],
   "metadata": {
    "collapsed": false
   },
   "id": "7ff027a547ffc274"
  },
  {
   "cell_type": "markdown",
   "source": [
    "### Streaming Robert"
   ],
   "metadata": {
    "collapsed": false
   },
   "id": "c4fb57b625115859"
  },
  {
   "cell_type": "markdown",
   "source": [
    "aktuelle Median Preis pro m² kann sich laufend aktualisieren und es wäre das Potential da den Bericht dynamisch zu gestalten."
   ],
   "metadata": {
    "collapsed": false
   },
   "id": "18ce2b801af1524d"
  },
  {
   "cell_type": "markdown",
   "source": [
    "### Output Robert"
   ],
   "metadata": {
    "collapsed": false
   },
   "id": "b75b4721dff23497"
  },
  {
   "cell_type": "markdown",
   "source": [
    "csv, \n",
    "Überblick der Preisveränderungen zu Bevölkerungsdaten --> textuell ausschlachten"
   ],
   "metadata": {
    "collapsed": false
   },
   "id": "42de30c4a7f81e5"
  }
 ],
 "metadata": {
  "kernelspec": {
   "display_name": "Python 3 (ipykernel)",
   "language": "python",
   "name": "python3"
  },
  "language_info": {
   "codemirror_mode": {
    "name": "ipython",
    "version": 3
   },
   "file_extension": ".py",
   "mimetype": "text/x-python",
   "name": "python",
   "nbconvert_exporter": "python",
   "pygments_lexer": "ipython3",
   "version": "3.11.7"
  }
 },
 "nbformat": 4,
 "nbformat_minor": 5
}
