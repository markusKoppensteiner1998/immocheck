{
 "cells": [
  {
   "cell_type": "markdown",
   "id": "702bdea7-1310-42f1-be73-0c2e35a44abd",
   "metadata": {},
   "source": [
    "# ImmoCheck"
   ]
  },
  {
   "cell_type": "markdown",
   "id": "b6af1b57-b3fd-440a-891c-d3f55763f392",
   "metadata": {},
   "source": [
    "This projects purpose is to give an overview how rent and buying prices of real estate changed in vienna over the last years. Therefore certain steps are taken. First of all data gets imported and gathered through different sources. Futher cleaning and stucturing will also be apllied. The main parts like data explanation, analysis and also visulations for better understanding will give you a better understanding on the topic. In the last part, conslusions will be drwan. The cleaned and stuctured data will also be provided as csv files. \\\n",
    "Let's get started!"
   ]
  },
  {
   "cell_type": "markdown",
   "id": "76e42bf8-c0b4-4ec9-8818-8f8d16ee5fcf",
   "metadata": {},
   "source": [
    "## Imports"
   ]
  },
  {
   "cell_type": "code",
   "execution_count": 1,
   "id": "648254db-eaee-408e-88b3-ecdd142e091e",
   "metadata": {
    "ExecuteTime": {
     "end_time": "2024-06-03T12:16:57.194716Z",
     "start_time": "2024-06-03T12:16:54.054002Z"
    }
   },
   "outputs": [],
   "source": [
    "import requests\n",
    "from bs4 import BeautifulSoup\n",
    "import pandas as pd"
   ]
  },
  {
   "cell_type": "markdown",
   "id": "7fde09d7-6722-4f26-82dc-0fe097aaf63f",
   "metadata": {},
   "source": [
    "## Data Gathering"
   ]
  },
  {
   "cell_type": "markdown",
   "id": "94dacc13-386d-4b04-8060-8bb5bb91e73e",
   "metadata": {},
   "source": [
    "There will be four different sources of data. One Webscarping, one API and two files."
   ]
  },
  {
   "cell_type": "markdown",
   "id": "f16cda68-d147-4f4f-a689-1b8d7e821dc2",
   "metadata": {},
   "source": [
    "### Webscarping - Cost of real estate"
   ]
  },
  {
   "cell_type": "markdown",
   "id": "0110f48c-b149-4b71-93d5-51f3fd035662",
   "metadata": {},
   "source": [
    "To get data regarding current costs of real estate, data from the webside \"Immobilienscout24.at\" will be scraped."
   ]
  },
  {
   "cell_type": "code",
   "execution_count": 2,
   "id": "8b0b7ba5-dd2f-40ea-80b6-232cf7efa36f",
   "metadata": {
    "ExecuteTime": {
     "end_time": "2024-06-03T12:18:24.652598Z",
     "start_time": "2024-06-03T12:17:49.786298Z"
    }
   },
   "outputs": [
    {
     "name": "stdout",
     "output_type": "stream",
     "text": [
      "https://www.immobilienscout24.at/regional/wien/wien/wohnung-kaufen  scraped values: 15\n",
      "https://www.immobilienscout24.at/regional/wien/wien/wohnung-kaufen/seite-2  scraped values: 14\n",
      "https://www.immobilienscout24.at/regional/wien/wien/wohnung-kaufen/seite-3  scraped values: 15\n",
      "https://www.immobilienscout24.at/regional/wien/wien/wohnung-kaufen/seite-4  scraped values: 12\n",
      "https://www.immobilienscout24.at/regional/wien/wien/wohnung-kaufen/seite-5  scraped values: 15\n",
      "https://www.immobilienscout24.at/regional/wien/wien/wohnung-kaufen/seite-6  scraped values: 15\n",
      "https://www.immobilienscout24.at/regional/wien/wien/wohnung-kaufen/seite-7  scraped values: 14\n",
      "https://www.immobilienscout24.at/regional/wien/wien/wohnung-kaufen/seite-8  scraped values: 13\n",
      "https://www.immobilienscout24.at/regional/wien/wien/wohnung-kaufen/seite-9  scraped values: 14\n",
      "https://www.immobilienscout24.at/regional/wien/wien/wohnung-kaufen/seite-10  scraped values: 14\n",
      "https://www.immobilienscout24.at/regional/wien/wien/wohnung-kaufen/seite-11  scraped values: 15\n",
      "https://www.immobilienscout24.at/regional/wien/wien/wohnung-kaufen/seite-12  scraped values: 14\n",
      "https://www.immobilienscout24.at/regional/wien/wien/wohnung-kaufen/seite-13  scraped values: 14\n",
      "https://www.immobilienscout24.at/regional/wien/wien/wohnung-kaufen/seite-14  scraped values: 2\n",
      "https://www.immobilienscout24.at/regional/wien/wien/wohnung-kaufen/seite-15  scraped values: 15\n",
      "https://www.immobilienscout24.at/regional/wien/wien/wohnung-kaufen/seite-16  scraped values: 14\n",
      "https://www.immobilienscout24.at/regional/wien/wien/wohnung-kaufen/seite-17  scraped values: 15\n",
      "https://www.immobilienscout24.at/regional/wien/wien/wohnung-kaufen/seite-18  scraped values: 15\n",
      "https://www.immobilienscout24.at/regional/wien/wien/wohnung-kaufen/seite-19  scraped values: 15\n",
      "https://www.immobilienscout24.at/regional/wien/wien/wohnung-kaufen/seite-20  scraped values: 14\n",
      "https://www.immobilienscout24.at/regional/wien/wien/wohnung-kaufen/seite-21  scraped values: 15\n",
      "https://www.immobilienscout24.at/regional/wien/wien/wohnung-kaufen/seite-22  scraped values: 15\n",
      "https://www.immobilienscout24.at/regional/wien/wien/wohnung-kaufen/seite-23  scraped values: 15\n",
      "https://www.immobilienscout24.at/regional/wien/wien/wohnung-kaufen/seite-24  scraped values: 15\n",
      "https://www.immobilienscout24.at/regional/wien/wien/wohnung-kaufen/seite-25  scraped values: 14\n",
      "https://www.immobilienscout24.at/regional/wien/wien/wohnung-kaufen/seite-26  scraped values: 15\n",
      "https://www.immobilienscout24.at/regional/wien/wien/wohnung-kaufen/seite-27  scraped values: 15\n",
      "https://www.immobilienscout24.at/regional/wien/wien/wohnung-kaufen/seite-28  scraped values: 15\n",
      "https://www.immobilienscout24.at/regional/wien/wien/wohnung-kaufen/seite-29  scraped values: 14\n",
      "https://www.immobilienscout24.at/regional/wien/wien/wohnung-kaufen/seite-30  scraped values: 15\n",
      "https://www.immobilienscout24.at/regional/wien/wien/wohnung-kaufen/seite-31  scraped values: 15\n",
      "https://www.immobilienscout24.at/regional/wien/wien/wohnung-kaufen/seite-32  scraped values: 15\n",
      "https://www.immobilienscout24.at/regional/wien/wien/wohnung-kaufen/seite-33  scraped values: 15\n",
      "https://www.immobilienscout24.at/regional/wien/wien/wohnung-kaufen/seite-34  scraped values: 15\n",
      "https://www.immobilienscout24.at/regional/wien/wien/wohnung-kaufen/seite-35  scraped values: 15\n",
      "https://www.immobilienscout24.at/regional/wien/wien/wohnung-kaufen/seite-36  scraped values: 14\n"
     ]
    }
   ],
   "source": [
    "i = 1\n",
    "url = \"\"\n",
    "prices = []\n",
    "while True:\n",
    "    if i == 1:\n",
    "        url = 'https://www.immobilienscout24.at/regional/wien/wien/wohnung-kaufen'\n",
    "    else:\n",
    "        url = f'https://www.immobilienscout24.at/regional/wien/wien/wohnung-kaufen/seite-{i}'\n",
    "\n",
    "    r = requests.get(url)\n",
    "    soup = BeautifulSoup(r.text, 'html.parser')\n",
    "    postings = soup.find_all('li', {'class': 'Item-item-S33'})\n",
    "    i += 1\n",
    "    scraped_vals = 0\n",
    "    for ele in postings:\n",
    "        for ele2 in (ele.select('a > section > section:nth-of-type(2) > ul:nth-of-type(1) > li:nth-of-type(2)')):\n",
    "            prices.append(ele2.getText())\n",
    "            scraped_vals += 1\n",
    "    if postings == []:\n",
    "        break;\n",
    "\n",
    "    print(url,' scraped values:',scraped_vals)"
   ]
  },
  {
   "cell_type": "markdown",
   "id": "43324bc0-9482-452e-8e07-da0460a62d2a",
   "metadata": {},
   "source": [
    "The scraped values get converted in a pandas dataFrame."
   ]
  },
  {
   "cell_type": "code",
   "execution_count": 3,
   "id": "119d39b0-c19a-4baf-8469-a618c0f599e7",
   "metadata": {
    "ExecuteTime": {
     "end_time": "2024-06-03T12:19:01.206508Z",
     "start_time": "2024-06-03T12:19:01.161275Z"
    }
   },
   "outputs": [
    {
     "data": {
      "text/plain": "                vals\n0   ab 5.614,27 €/m²\n1   ab 7.800,97 €/m²\n2   ab 5.847,55 €/m²\n3   ab 6.279,51 €/m²\n4   ab 5.171,14 €/m²\n5   ab 9.863,62 €/m²\n6  ab 18.665,28 €/m²\n7   ab 5.950,96 €/m²\n8   ab 7.822,06 €/m²\n9    ab 5.693,5 €/m²",
      "text/html": "<div>\n<style scoped>\n    .dataframe tbody tr th:only-of-type {\n        vertical-align: middle;\n    }\n\n    .dataframe tbody tr th {\n        vertical-align: top;\n    }\n\n    .dataframe thead th {\n        text-align: right;\n    }\n</style>\n<table border=\"1\" class=\"dataframe\">\n  <thead>\n    <tr style=\"text-align: right;\">\n      <th></th>\n      <th>vals</th>\n    </tr>\n  </thead>\n  <tbody>\n    <tr>\n      <th>0</th>\n      <td>ab 5.614,27 €/m²</td>\n    </tr>\n    <tr>\n      <th>1</th>\n      <td>ab 7.800,97 €/m²</td>\n    </tr>\n    <tr>\n      <th>2</th>\n      <td>ab 5.847,55 €/m²</td>\n    </tr>\n    <tr>\n      <th>3</th>\n      <td>ab 6.279,51 €/m²</td>\n    </tr>\n    <tr>\n      <th>4</th>\n      <td>ab 5.171,14 €/m²</td>\n    </tr>\n    <tr>\n      <th>5</th>\n      <td>ab 9.863,62 €/m²</td>\n    </tr>\n    <tr>\n      <th>6</th>\n      <td>ab 18.665,28 €/m²</td>\n    </tr>\n    <tr>\n      <th>7</th>\n      <td>ab 5.950,96 €/m²</td>\n    </tr>\n    <tr>\n      <th>8</th>\n      <td>ab 7.822,06 €/m²</td>\n    </tr>\n    <tr>\n      <th>9</th>\n      <td>ab 5.693,5 €/m²</td>\n    </tr>\n  </tbody>\n</table>\n</div>"
     },
     "execution_count": 3,
     "metadata": {},
     "output_type": "execute_result"
    }
   ],
   "source": [
    "export_dict = {'vals':prices}\n",
    "export_df = pd.DataFrame(export_dict)\n",
    "export_df.head(10)"
   ]
  },
  {
   "cell_type": "markdown",
   "id": "f09eab1c-5b08-4966-bc3d-d08ab2c81751",
   "metadata": {},
   "source": [
    "Looks good, but for further processing we just need the values."
   ]
  },
  {
   "cell_type": "code",
   "execution_count": 4,
   "id": "958292d7-3b74-4020-ada7-2547ed81cc41",
   "metadata": {
    "ExecuteTime": {
     "end_time": "2024-06-03T12:19:11.240261Z",
     "start_time": "2024-06-03T12:19:11.211646Z"
    }
   },
   "outputs": [
    {
     "data": {
      "text/plain": "        vals\n0   5.614,27\n1   7.800,97\n2   5.847,55\n3   6.279,51\n4   5.171,14\n5   9.863,62\n6  18.665,28\n7   5.950,96\n8   7.822,06\n9    5.693,5",
      "text/html": "<div>\n<style scoped>\n    .dataframe tbody tr th:only-of-type {\n        vertical-align: middle;\n    }\n\n    .dataframe tbody tr th {\n        vertical-align: top;\n    }\n\n    .dataframe thead th {\n        text-align: right;\n    }\n</style>\n<table border=\"1\" class=\"dataframe\">\n  <thead>\n    <tr style=\"text-align: right;\">\n      <th></th>\n      <th>vals</th>\n    </tr>\n  </thead>\n  <tbody>\n    <tr>\n      <th>0</th>\n      <td>5.614,27</td>\n    </tr>\n    <tr>\n      <th>1</th>\n      <td>7.800,97</td>\n    </tr>\n    <tr>\n      <th>2</th>\n      <td>5.847,55</td>\n    </tr>\n    <tr>\n      <th>3</th>\n      <td>6.279,51</td>\n    </tr>\n    <tr>\n      <th>4</th>\n      <td>5.171,14</td>\n    </tr>\n    <tr>\n      <th>5</th>\n      <td>9.863,62</td>\n    </tr>\n    <tr>\n      <th>6</th>\n      <td>18.665,28</td>\n    </tr>\n    <tr>\n      <th>7</th>\n      <td>5.950,96</td>\n    </tr>\n    <tr>\n      <th>8</th>\n      <td>7.822,06</td>\n    </tr>\n    <tr>\n      <th>9</th>\n      <td>5.693,5</td>\n    </tr>\n  </tbody>\n</table>\n</div>"
     },
     "execution_count": 4,
     "metadata": {},
     "output_type": "execute_result"
    }
   ],
   "source": [
    "export_df = export_df.replace('ab','',regex = True)\n",
    "export_df = export_df.replace('€/m²','',regex = True)\n",
    "export_df = export_df.replace(' ','',regex = True)\n",
    "export_df.head(10)"
   ]
  },
  {
   "cell_type": "markdown",
   "id": "d8fcd7b3-a4f8-424d-9220-0f78153ca789",
   "metadata": {},
   "source": [
    "Now the format has to be adapted."
   ]
  },
  {
   "cell_type": "code",
   "execution_count": 5,
   "id": "6e952568-f21b-433d-a77e-0585ccf766dd",
   "metadata": {
    "ExecuteTime": {
     "end_time": "2024-06-03T12:19:21.445422Z",
     "start_time": "2024-06-03T12:19:21.412731Z"
    }
   },
   "outputs": [
    {
     "data": {
      "text/plain": "       vals\n0   5614.27\n1   7800.97\n2   5847.55\n3   6279.51\n4   5171.14\n5   9863.62\n6  18665.28\n7   5950.96\n8   7822.06\n9    5693.5",
      "text/html": "<div>\n<style scoped>\n    .dataframe tbody tr th:only-of-type {\n        vertical-align: middle;\n    }\n\n    .dataframe tbody tr th {\n        vertical-align: top;\n    }\n\n    .dataframe thead th {\n        text-align: right;\n    }\n</style>\n<table border=\"1\" class=\"dataframe\">\n  <thead>\n    <tr style=\"text-align: right;\">\n      <th></th>\n      <th>vals</th>\n    </tr>\n  </thead>\n  <tbody>\n    <tr>\n      <th>0</th>\n      <td>5614.27</td>\n    </tr>\n    <tr>\n      <th>1</th>\n      <td>7800.97</td>\n    </tr>\n    <tr>\n      <th>2</th>\n      <td>5847.55</td>\n    </tr>\n    <tr>\n      <th>3</th>\n      <td>6279.51</td>\n    </tr>\n    <tr>\n      <th>4</th>\n      <td>5171.14</td>\n    </tr>\n    <tr>\n      <th>5</th>\n      <td>9863.62</td>\n    </tr>\n    <tr>\n      <th>6</th>\n      <td>18665.28</td>\n    </tr>\n    <tr>\n      <th>7</th>\n      <td>5950.96</td>\n    </tr>\n    <tr>\n      <th>8</th>\n      <td>7822.06</td>\n    </tr>\n    <tr>\n      <th>9</th>\n      <td>5693.5</td>\n    </tr>\n  </tbody>\n</table>\n</div>"
     },
     "execution_count": 5,
     "metadata": {},
     "output_type": "execute_result"
    }
   ],
   "source": [
    "export_df = export_df.apply(lambda x: x.str.replace('.',''))\n",
    "export_df = export_df.apply(lambda x: x.str.replace(',','.'))\n",
    "export_df.head(10)"
   ]
  },
  {
   "cell_type": "markdown",
   "id": "32b12dd9-4a67-488e-bf58-06bbd05b66b1",
   "metadata": {},
   "source": [
    "Most of the values look good. However, wile scarping we also got some value which can not be further processed."
   ]
  },
  {
   "cell_type": "code",
   "execution_count": 6,
   "id": "848c52a0-1983-4242-b179-a920246515c7",
   "metadata": {
    "ExecuteTime": {
     "end_time": "2024-06-03T12:19:32.148003Z",
     "start_time": "2024-06-03T12:19:32.127250Z"
    }
   },
   "outputs": [
    {
     "data": {
      "text/plain": "                vals\n253  statt215000€-7%\n365  statt250000€-4%\n398  statt330000€-3%\n404  statt479000€-6%",
      "text/html": "<div>\n<style scoped>\n    .dataframe tbody tr th:only-of-type {\n        vertical-align: middle;\n    }\n\n    .dataframe tbody tr th {\n        vertical-align: top;\n    }\n\n    .dataframe thead th {\n        text-align: right;\n    }\n</style>\n<table border=\"1\" class=\"dataframe\">\n  <thead>\n    <tr style=\"text-align: right;\">\n      <th></th>\n      <th>vals</th>\n    </tr>\n  </thead>\n  <tbody>\n    <tr>\n      <th>253</th>\n      <td>statt215000€-7%</td>\n    </tr>\n    <tr>\n      <th>365</th>\n      <td>statt250000€-4%</td>\n    </tr>\n    <tr>\n      <th>398</th>\n      <td>statt330000€-3%</td>\n    </tr>\n    <tr>\n      <th>404</th>\n      <td>statt479000€-6%</td>\n    </tr>\n  </tbody>\n</table>\n</div>"
     },
     "execution_count": 6,
     "metadata": {},
     "output_type": "execute_result"
    }
   ],
   "source": [
    "export_df[export_df['vals'].str.startswith('statt')]"
   ]
  },
  {
   "cell_type": "markdown",
   "id": "69685b24-43be-4a96-88ef-0fab1918db24",
   "metadata": {},
   "source": [
    "These values get deleted."
   ]
  },
  {
   "cell_type": "code",
   "execution_count": 7,
   "id": "77f94e49-dc79-4142-9acf-b8945c728d93",
   "metadata": {
    "ExecuteTime": {
     "end_time": "2024-06-03T12:19:43.245194Z",
     "start_time": "2024-06-03T12:19:39.477240Z"
    }
   },
   "outputs": [
    {
     "ename": "KeyError",
     "evalue": "'[527, 553] not found in axis'",
     "output_type": "error",
     "traceback": [
      "\u001B[1;31m---------------------------------------------------------------------------\u001B[0m",
      "\u001B[1;31mKeyError\u001B[0m                                  Traceback (most recent call last)",
      "Cell \u001B[1;32mIn[7], line 1\u001B[0m\n\u001B[1;32m----> 1\u001B[0m export_df \u001B[38;5;241m=\u001B[39m export_df\u001B[38;5;241m.\u001B[39mdrop([\u001B[38;5;241m185\u001B[39m,\u001B[38;5;241m393\u001B[39m,\u001B[38;5;241m527\u001B[39m,\u001B[38;5;241m553\u001B[39m])\n",
      "File \u001B[1;32m~\\anaconda3\\Lib\\site-packages\\pandas\\core\\frame.py:5344\u001B[0m, in \u001B[0;36mDataFrame.drop\u001B[1;34m(self, labels, axis, index, columns, level, inplace, errors)\u001B[0m\n\u001B[0;32m   5196\u001B[0m \u001B[38;5;28;01mdef\u001B[39;00m \u001B[38;5;21mdrop\u001B[39m(\n\u001B[0;32m   5197\u001B[0m     \u001B[38;5;28mself\u001B[39m,\n\u001B[0;32m   5198\u001B[0m     labels: IndexLabel \u001B[38;5;241m|\u001B[39m \u001B[38;5;28;01mNone\u001B[39;00m \u001B[38;5;241m=\u001B[39m \u001B[38;5;28;01mNone\u001B[39;00m,\n\u001B[1;32m   (...)\u001B[0m\n\u001B[0;32m   5205\u001B[0m     errors: IgnoreRaise \u001B[38;5;241m=\u001B[39m \u001B[38;5;124m\"\u001B[39m\u001B[38;5;124mraise\u001B[39m\u001B[38;5;124m\"\u001B[39m,\n\u001B[0;32m   5206\u001B[0m ) \u001B[38;5;241m-\u001B[39m\u001B[38;5;241m>\u001B[39m DataFrame \u001B[38;5;241m|\u001B[39m \u001B[38;5;28;01mNone\u001B[39;00m:\n\u001B[0;32m   5207\u001B[0m \u001B[38;5;250m    \u001B[39m\u001B[38;5;124;03m\"\"\"\u001B[39;00m\n\u001B[0;32m   5208\u001B[0m \u001B[38;5;124;03m    Drop specified labels from rows or columns.\u001B[39;00m\n\u001B[0;32m   5209\u001B[0m \n\u001B[1;32m   (...)\u001B[0m\n\u001B[0;32m   5342\u001B[0m \u001B[38;5;124;03m            weight  1.0     0.8\u001B[39;00m\n\u001B[0;32m   5343\u001B[0m \u001B[38;5;124;03m    \"\"\"\u001B[39;00m\n\u001B[1;32m-> 5344\u001B[0m     \u001B[38;5;28;01mreturn\u001B[39;00m \u001B[38;5;28msuper\u001B[39m()\u001B[38;5;241m.\u001B[39mdrop(\n\u001B[0;32m   5345\u001B[0m         labels\u001B[38;5;241m=\u001B[39mlabels,\n\u001B[0;32m   5346\u001B[0m         axis\u001B[38;5;241m=\u001B[39maxis,\n\u001B[0;32m   5347\u001B[0m         index\u001B[38;5;241m=\u001B[39mindex,\n\u001B[0;32m   5348\u001B[0m         columns\u001B[38;5;241m=\u001B[39mcolumns,\n\u001B[0;32m   5349\u001B[0m         level\u001B[38;5;241m=\u001B[39mlevel,\n\u001B[0;32m   5350\u001B[0m         inplace\u001B[38;5;241m=\u001B[39minplace,\n\u001B[0;32m   5351\u001B[0m         errors\u001B[38;5;241m=\u001B[39merrors,\n\u001B[0;32m   5352\u001B[0m     )\n",
      "File \u001B[1;32m~\\anaconda3\\Lib\\site-packages\\pandas\\core\\generic.py:4711\u001B[0m, in \u001B[0;36mNDFrame.drop\u001B[1;34m(self, labels, axis, index, columns, level, inplace, errors)\u001B[0m\n\u001B[0;32m   4709\u001B[0m \u001B[38;5;28;01mfor\u001B[39;00m axis, labels \u001B[38;5;129;01min\u001B[39;00m axes\u001B[38;5;241m.\u001B[39mitems():\n\u001B[0;32m   4710\u001B[0m     \u001B[38;5;28;01mif\u001B[39;00m labels \u001B[38;5;129;01mis\u001B[39;00m \u001B[38;5;129;01mnot\u001B[39;00m \u001B[38;5;28;01mNone\u001B[39;00m:\n\u001B[1;32m-> 4711\u001B[0m         obj \u001B[38;5;241m=\u001B[39m obj\u001B[38;5;241m.\u001B[39m_drop_axis(labels, axis, level\u001B[38;5;241m=\u001B[39mlevel, errors\u001B[38;5;241m=\u001B[39merrors)\n\u001B[0;32m   4713\u001B[0m \u001B[38;5;28;01mif\u001B[39;00m inplace:\n\u001B[0;32m   4714\u001B[0m     \u001B[38;5;28mself\u001B[39m\u001B[38;5;241m.\u001B[39m_update_inplace(obj)\n",
      "File \u001B[1;32m~\\anaconda3\\Lib\\site-packages\\pandas\\core\\generic.py:4753\u001B[0m, in \u001B[0;36mNDFrame._drop_axis\u001B[1;34m(self, labels, axis, level, errors, only_slice)\u001B[0m\n\u001B[0;32m   4751\u001B[0m         new_axis \u001B[38;5;241m=\u001B[39m axis\u001B[38;5;241m.\u001B[39mdrop(labels, level\u001B[38;5;241m=\u001B[39mlevel, errors\u001B[38;5;241m=\u001B[39merrors)\n\u001B[0;32m   4752\u001B[0m     \u001B[38;5;28;01melse\u001B[39;00m:\n\u001B[1;32m-> 4753\u001B[0m         new_axis \u001B[38;5;241m=\u001B[39m axis\u001B[38;5;241m.\u001B[39mdrop(labels, errors\u001B[38;5;241m=\u001B[39merrors)\n\u001B[0;32m   4754\u001B[0m     indexer \u001B[38;5;241m=\u001B[39m axis\u001B[38;5;241m.\u001B[39mget_indexer(new_axis)\n\u001B[0;32m   4756\u001B[0m \u001B[38;5;66;03m# Case for non-unique axis\u001B[39;00m\n\u001B[0;32m   4757\u001B[0m \u001B[38;5;28;01melse\u001B[39;00m:\n",
      "File \u001B[1;32m~\\anaconda3\\Lib\\site-packages\\pandas\\core\\indexes\\base.py:7000\u001B[0m, in \u001B[0;36mIndex.drop\u001B[1;34m(self, labels, errors)\u001B[0m\n\u001B[0;32m   6998\u001B[0m \u001B[38;5;28;01mif\u001B[39;00m mask\u001B[38;5;241m.\u001B[39many():\n\u001B[0;32m   6999\u001B[0m     \u001B[38;5;28;01mif\u001B[39;00m errors \u001B[38;5;241m!=\u001B[39m \u001B[38;5;124m\"\u001B[39m\u001B[38;5;124mignore\u001B[39m\u001B[38;5;124m\"\u001B[39m:\n\u001B[1;32m-> 7000\u001B[0m         \u001B[38;5;28;01mraise\u001B[39;00m \u001B[38;5;167;01mKeyError\u001B[39;00m(\u001B[38;5;124mf\u001B[39m\u001B[38;5;124m\"\u001B[39m\u001B[38;5;132;01m{\u001B[39;00mlabels[mask]\u001B[38;5;241m.\u001B[39mtolist()\u001B[38;5;132;01m}\u001B[39;00m\u001B[38;5;124m not found in axis\u001B[39m\u001B[38;5;124m\"\u001B[39m)\n\u001B[0;32m   7001\u001B[0m     indexer \u001B[38;5;241m=\u001B[39m indexer[\u001B[38;5;241m~\u001B[39mmask]\n\u001B[0;32m   7002\u001B[0m \u001B[38;5;28;01mreturn\u001B[39;00m \u001B[38;5;28mself\u001B[39m\u001B[38;5;241m.\u001B[39mdelete(indexer)\n",
      "\u001B[1;31mKeyError\u001B[0m: '[527, 553] not found in axis'"
     ]
    }
   ],
   "source": [
    "export_df = export_df.drop([185,393,527,553])"
   ]
  },
  {
   "cell_type": "markdown",
   "id": "08d40c07-074f-44b5-ad8a-cba901e7c0f9",
   "metadata": {},
   "source": [
    "Now the value look good and are ready to be exported for later processing."
   ]
  },
  {
   "cell_type": "code",
   "execution_count": 8,
   "id": "54b2ab80-2a8f-490a-9c3b-9bd718bf865f",
   "metadata": {
    "ExecuteTime": {
     "end_time": "2024-06-03T12:20:01.767501Z",
     "start_time": "2024-06-03T12:20:01.750370Z"
    }
   },
   "outputs": [],
   "source": [
    "export_df.to_csv('./exports/prices.csv', index=False)  "
   ]
  },
  {
   "cell_type": "markdown",
   "source": [],
   "metadata": {
    "collapsed": false
   },
   "id": "4da47d616da1fc6e"
  },
  {
   "cell_type": "markdown",
   "source": [
    "### Datasource 2 - Cost of renting an apartment"
   ],
   "metadata": {
    "collapsed": false
   },
   "id": "6857738b8eb84462"
  },
  {
   "cell_type": "markdown",
   "source": [
    "#### To get historical data regarding costs of renting an apartment in Vienna, data in form of .ods files from the website \"statistik.at\" is used."
   ],
   "metadata": {
    "collapsed": false
   },
   "id": "b834c6d7e918848e"
  },
  {
   "cell_type": "code",
   "outputs": [
    {
     "name": "stdout",
     "output_type": "stream",
     "text": [
      "Requirement already satisfied: pdfplumber in c:\\users\\smurh\\anaconda3\\lib\\site-packages (0.11.0)\n",
      "Requirement already satisfied: pandas in c:\\users\\smurh\\anaconda3\\lib\\site-packages (1.5.3)\n",
      "Requirement already satisfied: openpyxl in c:\\users\\smurh\\anaconda3\\lib\\site-packages (3.0.10)\n",
      "Collecting odfpy\n",
      "  Downloading odfpy-1.4.1.tar.gz (717 kB)\n",
      "     ---------------------------------------- 0.0/717.0 kB ? eta -:--:--\n",
      "      --------------------------------------- 10.2/717.0 kB ? eta -:--:--\n",
      "     - ----------------------------------- 30.7/717.0 kB 262.6 kB/s eta 0:00:03\n",
      "     --- --------------------------------- 61.4/717.0 kB 409.6 kB/s eta 0:00:02\n",
      "     --------- ---------------------------- 184.3/717.0 kB 1.0 MB/s eta 0:00:01\n",
      "     -------------------------------------  716.8/717.0 kB 3.5 MB/s eta 0:00:01\n",
      "     -------------------------------------- 717.0/717.0 kB 3.0 MB/s eta 0:00:00\n",
      "  Preparing metadata (setup.py): started\n",
      "  Preparing metadata (setup.py): finished with status 'done'\n",
      "Requirement already satisfied: pdfminer.six==20231228 in c:\\users\\smurh\\anaconda3\\lib\\site-packages (from pdfplumber) (20231228)\n",
      "Requirement already satisfied: Pillow>=9.1 in c:\\users\\smurh\\anaconda3\\lib\\site-packages (from pdfplumber) (10.2.0)\n",
      "Requirement already satisfied: pypdfium2>=4.18.0 in c:\\users\\smurh\\anaconda3\\lib\\site-packages (from pdfplumber) (4.30.0)\n",
      "Requirement already satisfied: charset-normalizer>=2.0.0 in c:\\users\\smurh\\anaconda3\\lib\\site-packages (from pdfminer.six==20231228->pdfplumber) (2.0.4)\n",
      "Requirement already satisfied: cryptography>=36.0.0 in c:\\users\\smurh\\anaconda3\\lib\\site-packages (from pdfminer.six==20231228->pdfplumber) (42.0.2)\n",
      "Requirement already satisfied: python-dateutil>=2.8.1 in c:\\users\\smurh\\anaconda3\\lib\\site-packages (from pandas) (2.8.2)\n",
      "Requirement already satisfied: pytz>=2020.1 in c:\\users\\smurh\\anaconda3\\lib\\site-packages (from pandas) (2023.3.post1)\n",
      "Requirement already satisfied: numpy>=1.21.0 in c:\\users\\smurh\\anaconda3\\lib\\site-packages (from pandas) (1.26.4)\n",
      "Requirement already satisfied: et_xmlfile in c:\\users\\smurh\\anaconda3\\lib\\site-packages (from openpyxl) (1.1.0)\n",
      "Requirement already satisfied: defusedxml in c:\\users\\smurh\\anaconda3\\lib\\site-packages (from odfpy) (0.7.1)\n",
      "Requirement already satisfied: six>=1.5 in c:\\users\\smurh\\anaconda3\\lib\\site-packages (from python-dateutil>=2.8.1->pandas) (1.16.0)\n",
      "Requirement already satisfied: cffi>=1.12 in c:\\users\\smurh\\anaconda3\\lib\\site-packages (from cryptography>=36.0.0->pdfminer.six==20231228->pdfplumber) (1.16.0)\n",
      "Requirement already satisfied: pycparser in c:\\users\\smurh\\anaconda3\\lib\\site-packages (from cffi>=1.12->cryptography>=36.0.0->pdfminer.six==20231228->pdfplumber) (2.21)\n",
      "Building wheels for collected packages: odfpy\n",
      "  Building wheel for odfpy (setup.py): started\n",
      "  Building wheel for odfpy (setup.py): finished with status 'done'\n",
      "  Created wheel for odfpy: filename=odfpy-1.4.1-py2.py3-none-any.whl size=137513 sha256=1441164f840d18fee05c84063154c8c521c5042a2ee2b76bef0d8a307a36117f\n",
      "  Stored in directory: c:\\users\\smurh\\appdata\\local\\pip\\cache\\wheels\\d6\\1d\\c8\\8c29be1d73ca42d15977c75193d9f39a98499413c2838ac54c\n",
      "Successfully built odfpy\n",
      "Installing collected packages: odfpy\n",
      "Successfully installed odfpy-1.4.1\n"
     ]
    }
   ],
   "source": [
    "!pip install pdfplumber pandas openpyxl odfpy"
   ],
   "metadata": {
    "collapsed": false,
    "ExecuteTime": {
     "end_time": "2024-06-03T12:47:28.573326Z",
     "start_time": "2024-06-03T12:47:08.090596Z"
    }
   },
   "id": "545b5c6f2aa1fcc3",
   "execution_count": 14
  },
  {
   "cell_type": "code",
   "outputs": [
    {
     "name": "stderr",
     "output_type": "stream",
     "text": [
      "C:\\Users\\smurh\\AppData\\Local\\Temp\\ipykernel_13720\\1623310260.py:30: FutureWarning: The behavior of DataFrame concatenation with empty or all-NA entries is deprecated. In a future version, this will no longer exclude empty or all-NA columns when determining the result dtypes. To retain the old behavior, exclude the relevant entries before the concat operation.\n",
      "  combined_wien_data_2015_2020 = pd.concat(wien_data_list_2015_2020, ignore_index=True)\n"
     ]
    }
   ],
   "source": [
    "import pandas as pd\n",
    "import matplotlib.pyplot as plt\n",
    "\n",
    "# Function to extract the row with \"Wien\" from the ODS files and add the filename as a column\n",
    "def extract_wien_data(file_path):\n",
    "    data = pd.read_excel(file_path, engine='odf')\n",
    "    wien_data = data[data.apply(lambda row: row.astype(str).str.contains('Wien').any(), axis=1)].copy() \n",
    "    wien_data.loc[:, 'Source File'] = file_path  # to assign the filename\n",
    "    return wien_data\n",
    "\n",
    "# ODS files 2015 to 2020\n",
    "ods_files_2015_2020 = [\n",
    "    \"statistik austria/2015.ods\",\n",
    "    \"statistik austria/2016.ods\",\n",
    "    \"statistik austria/2017.ods\",\n",
    "    \"statistik austria/2018.ods\",\n",
    "    \"statistik austria/2019.ods\",\n",
    "    \"statistik austria/2020.ods\"\n",
    "]\n",
    "\n",
    "# ODS files 2021 and 2022\n",
    "ods_files_2021_2022 = [\n",
    "    \"statistik austria/2021.ods\",\n",
    "    \"statistik austria/2022.ods\"\n",
    "]\n",
    "\n",
    "# Extract \"Wien\" data from 2015 to 2020\n",
    "wien_data_list_2015_2020 = [extract_wien_data(file) for file in ods_files_2015_2020]\n",
    "wien_data_list_2015_2020 = [df for df in wien_data_list_2015_2020 if not df.empty and not df.isna().all().all()]\n",
    "combined_wien_data_2015_2020 = pd.concat(wien_data_list_2015_2020, ignore_index=True)\n",
    "combined_wien_data_2015_2020 = combined_wien_data_2015_2020.drop_duplicates()\n",
    "wien_column_values_2015_2020 = combined_wien_data_2015_2020[['Unnamed: 12', 'Source File']]\n",
    "\n",
    "# Extract \"Wien\" data from 2021 and 2022\n",
    "wien_data_list_2021_2022 = [extract_wien_data(file) for file in ods_files_2021_2022]\n",
    "wien_data_list_2021_2022 = [df for df in wien_data_list_2021_2022 if not df.empty and not df.isna().all().all()]\n",
    "combined_wien_data_2021_2022 = pd.concat(wien_data_list_2021_2022, ignore_index=True)\n",
    "combined_wien_data_2021_2022 = combined_wien_data_2021_2022.drop_duplicates()\n",
    "wien_column_values_2021_2022 = combined_wien_data_2021_2022[['Unnamed: 5', 'Source File']]\n",
    "\n",
    "# Rename columns and combine both dataframes\n",
    "wien_column_values_2015_2020.columns = ['Miete/m² in Wien', 'Source File']\n",
    "wien_column_values_2021_2022.columns = ['Miete/m² in Wien', 'Source File']\n",
    "\n",
    "combined_wien_all_years = pd.concat([wien_column_values_2015_2020, wien_column_values_2021_2022], ignore_index=True)\n",
    "\n",
    "# Extract year from source file and add as a new column\n",
    "combined_wien_all_years['Jahr'] = combined_wien_all_years['Source File'].apply(lambda x: x.split('/')[-1].split('.')[0])\n",
    "\n",
    "# Drop the source file column\n",
    "combined_wien_all_years = combined_wien_all_years.drop(columns=['Source File'])\n",
    "\n",
    "# Convert \"Miete/m² in Wien\" to a float and round to one decimal place\n",
    "combined_wien_all_years['Miete/m² in Wien'] = combined_wien_all_years['Miete/m² in Wien'].astype(float).round(1)\n",
    "\n",
    "# Error message \"FutureWarning: (...) \" can be ignored!"
   ],
   "metadata": {
    "collapsed": false,
    "ExecuteTime": {
     "end_time": "2024-06-03T14:27:44.196727Z",
     "start_time": "2024-06-03T14:27:42.167124Z"
    }
   },
   "id": "c7a86408f4584780",
   "execution_count": 56
  },
  {
   "cell_type": "code",
   "outputs": [
    {
     "name": "stdout",
     "output_type": "stream",
     "text": [
      "   Miete/m² in Wien  Jahr\n",
      "0               5.2  2015\n",
      "1               5.4  2016\n",
      "2               5.7  2017\n",
      "3               5.9  2018\n",
      "4               6.1  2019\n",
      "5               6.3  2020\n",
      "6               6.3  2021\n",
      "7               6.6  2022\n"
     ]
    }
   ],
   "source": [
    "# the combined data\n",
    "print(combined_wien_all_years)"
   ],
   "metadata": {
    "collapsed": false,
    "ExecuteTime": {
     "end_time": "2024-06-03T14:27:57.303571Z",
     "start_time": "2024-06-03T14:27:57.291058Z"
    }
   },
   "id": "64245b69410d2e20",
   "execution_count": 57
  },
  {
   "cell_type": "code",
   "outputs": [
    {
     "data": {
      "text/plain": "<Figure size 1000x600 with 1 Axes>",
      "image/png": "[encoded data removed]"
     },
     "metadata": {},
     "output_type": "display_data"
    }
   ],
   "source": [
    "# Visualization with Line Plot\n",
    "plt.figure(figsize=(10, 6))\n",
    "plt.plot(combined_wien_all_years['Jahr'], combined_wien_all_years['Miete/m² in Wien'], marker='o')\n",
    "plt.xlabel('Jahre')\n",
    "plt.ylabel('Mietpreis pro m²')\n",
    "plt.title('Miete/m² in Wien pro Jahr')\n",
    "plt.grid(True)\n",
    "plt.xticks(rotation=45)\n",
    "plt.show()"
   ],
   "metadata": {
    "collapsed": false,
    "ExecuteTime": {
     "end_time": "2024-06-03T14:29:03.285143Z",
     "start_time": "2024-06-03T14:29:03.038527Z"
    }
   },
   "id": "618ccbb8e0f3209",
   "execution_count": 60
  },
  {
   "cell_type": "code",
   "outputs": [
    {
     "data": {
      "text/plain": "<Figure size 1000x600 with 1 Axes>",
      "image/png": "[encoded data removed]"
     },
     "metadata": {},
     "output_type": "display_data"
    }
   ],
   "source": [
    "# Calculate the percentage change from year to year\n",
    "combined_wien_all_years['Miete/m² in Wien'] = combined_wien_all_years['Miete/m² in Wien']\n",
    "combined_wien_all_years['Prozentuale Veränderung'] = combined_wien_all_years['Miete/m² in Wien'].pct_change().mul(100).round(1)\n",
    "\n",
    "# Visualization with Bar Chart \n",
    "plt.figure(figsize=(10, 6))\n",
    "plt.bar(combined_wien_all_years['Jahr'], combined_wien_all_years['Miete/m² in Wien'], color='skyblue')\n",
    "plt.xlabel('Year')\n",
    "plt.ylabel('Miete/m² in Wien')\n",
    "plt.title('Miete/m² in Wien for Each Year')\n",
    "plt.grid(axis='y')\n",
    "plt.xticks(rotation=45)\n",
    "\n",
    "# Add percentage change as text above the bars\n",
    "for i, (year, value, change) in enumerate(zip(combined_wien_all_years['Jahr'], combined_wien_all_years['Miete/m² in Wien'], combined_wien_all_years['Prozentuale Veränderung'])):\n",
    "    plt.text(i, value + 0.1, f'{change}%', ha='center', va='bottom', fontsize=9)\n",
    "\n",
    "plt.show()"
   ],
   "metadata": {
    "collapsed": false,
    "ExecuteTime": {
     "end_time": "2024-06-03T14:34:40.199803Z",
     "start_time": "2024-06-03T14:34:39.947220Z"
    }
   },
   "id": "4e1f9e27b6b18b4b",
   "execution_count": 63
  }
 ],
 "metadata": {
  "kernelspec": {
   "display_name": "Python 3 (ipykernel)",
   "language": "python",
   "name": "python3"
  },
  "language_info": {
   "codemirror_mode": {
    "name": "ipython",
    "version": 3
   },
   "file_extension": ".py",
   "mimetype": "text/x-python",
   "name": "python",
   "nbconvert_exporter": "python",
   "pygments_lexer": "ipython3",
   "version": "3.11.7"
  }
 },
 "nbformat": 4,
 "nbformat_minor": 5
}
