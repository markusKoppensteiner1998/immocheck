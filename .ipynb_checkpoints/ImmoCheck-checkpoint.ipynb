{
 "cells": [
  {
   "cell_type": "markdown",
   "id": "702bdea7-1310-42f1-be73-0c2e35a44abd",
   "metadata": {},
   "source": [
    "# ImmoCheck"
   ]
  },
  {
   "cell_type": "markdown",
   "id": "b6af1b57-b3fd-440a-891c-d3f55763f392",
   "metadata": {},
   "source": [
    "This projects purpose is to give an overview how rent and buying prices of real estate changed in vienna over the last years. Therefore certain steps are taken. First of all data gets imported and gathered through different sources. Futher cleaning and stucturing will also be apllied. The main parts like data explanation, analysis and also visulations for better understanding will give you a better understanding on the topic. In the last part, conslusions will be drwan. The cleaned and stuctured data will also be provided as csv files. \\\n",
    "Let's get started!"
   ]
  },
  {
   "cell_type": "markdown",
   "id": "76e42bf8-c0b4-4ec9-8818-8f8d16ee5fcf",
   "metadata": {},
   "source": [
    "## Imports"
   ]
  },
  {
   "cell_type": "code",
   "execution_count": 99,
   "id": "648254db-eaee-408e-88b3-ecdd142e091e",
   "metadata": {},
   "outputs": [],
   "source": [
    "import requests\n",
    "from bs4 import BeautifulSoup\n",
    "import pandas as pd"
   ]
  },
  {
   "cell_type": "markdown",
   "id": "7fde09d7-6722-4f26-82dc-0fe097aaf63f",
   "metadata": {},
   "source": [
    "## Data Gathering"
   ]
  },
  {
   "cell_type": "markdown",
   "id": "94dacc13-386d-4b04-8060-8bb5bb91e73e",
   "metadata": {},
   "source": [
    "There will be four different sources of data. One Webscarping, one API and two files."
   ]
  },
  {
   "cell_type": "markdown",
   "id": "f16cda68-d147-4f4f-a689-1b8d7e821dc2",
   "metadata": {},
   "source": [
    "### Webscarping - Cost of real estate"
   ]
  },
  {
   "cell_type": "markdown",
   "id": "0110f48c-b149-4b71-93d5-51f3fd035662",
   "metadata": {},
   "source": [
    "To get data regarding current costs of real estate, data from the webside \"Immobilienscout24.at\" will be scraped."
   ]
  },
  {
   "cell_type": "code",
   "execution_count": 163,
   "id": "8b0b7ba5-dd2f-40ea-80b6-232cf7efa36f",
   "metadata": {},
   "outputs": [
    {
     "name": "stdout",
     "output_type": "stream",
     "text": [
      "https://www.immobilienscout24.at/regional/wien/wien/wohnung-kaufen  scraped values: 13\n",
      "https://www.immobilienscout24.at/regional/wien/wien/wohnung-kaufen/seite-2  scraped values: 15\n",
      "https://www.immobilienscout24.at/regional/wien/wien/wohnung-kaufen/seite-3  scraped values: 14\n",
      "https://www.immobilienscout24.at/regional/wien/wien/wohnung-kaufen/seite-4  scraped values: 15\n",
      "https://www.immobilienscout24.at/regional/wien/wien/wohnung-kaufen/seite-5  scraped values: 15\n",
      "https://www.immobilienscout24.at/regional/wien/wien/wohnung-kaufen/seite-6  scraped values: 12\n",
      "https://www.immobilienscout24.at/regional/wien/wien/wohnung-kaufen/seite-7  scraped values: 14\n",
      "https://www.immobilienscout24.at/regional/wien/wien/wohnung-kaufen/seite-8  scraped values: 15\n",
      "https://www.immobilienscout24.at/regional/wien/wien/wohnung-kaufen/seite-9  scraped values: 15\n",
      "https://www.immobilienscout24.at/regional/wien/wien/wohnung-kaufen/seite-10  scraped values: 15\n",
      "https://www.immobilienscout24.at/regional/wien/wien/wohnung-kaufen/seite-11  scraped values: 14\n",
      "https://www.immobilienscout24.at/regional/wien/wien/wohnung-kaufen/seite-12  scraped values: 13\n",
      "https://www.immobilienscout24.at/regional/wien/wien/wohnung-kaufen/seite-13  scraped values: 15\n",
      "https://www.immobilienscout24.at/regional/wien/wien/wohnung-kaufen/seite-14  scraped values: 14\n",
      "https://www.immobilienscout24.at/regional/wien/wien/wohnung-kaufen/seite-15  scraped values: 4\n",
      "https://www.immobilienscout24.at/regional/wien/wien/wohnung-kaufen/seite-16  scraped values: 15\n",
      "https://www.immobilienscout24.at/regional/wien/wien/wohnung-kaufen/seite-17  scraped values: 15\n",
      "https://www.immobilienscout24.at/regional/wien/wien/wohnung-kaufen/seite-18  scraped values: 15\n",
      "https://www.immobilienscout24.at/regional/wien/wien/wohnung-kaufen/seite-19  scraped values: 14\n",
      "https://www.immobilienscout24.at/regional/wien/wien/wohnung-kaufen/seite-20  scraped values: 14\n",
      "https://www.immobilienscout24.at/regional/wien/wien/wohnung-kaufen/seite-21  scraped values: 15\n",
      "https://www.immobilienscout24.at/regional/wien/wien/wohnung-kaufen/seite-22  scraped values: 15\n",
      "https://www.immobilienscout24.at/regional/wien/wien/wohnung-kaufen/seite-23  scraped values: 15\n",
      "https://www.immobilienscout24.at/regional/wien/wien/wohnung-kaufen/seite-24  scraped values: 15\n",
      "https://www.immobilienscout24.at/regional/wien/wien/wohnung-kaufen/seite-25  scraped values: 15\n",
      "https://www.immobilienscout24.at/regional/wien/wien/wohnung-kaufen/seite-26  scraped values: 15\n",
      "https://www.immobilienscout24.at/regional/wien/wien/wohnung-kaufen/seite-27  scraped values: 15\n",
      "https://www.immobilienscout24.at/regional/wien/wien/wohnung-kaufen/seite-28  scraped values: 15\n",
      "https://www.immobilienscout24.at/regional/wien/wien/wohnung-kaufen/seite-29  scraped values: 15\n",
      "https://www.immobilienscout24.at/regional/wien/wien/wohnung-kaufen/seite-30  scraped values: 15\n",
      "https://www.immobilienscout24.at/regional/wien/wien/wohnung-kaufen/seite-31  scraped values: 13\n",
      "https://www.immobilienscout24.at/regional/wien/wien/wohnung-kaufen/seite-32  scraped values: 13\n",
      "https://www.immobilienscout24.at/regional/wien/wien/wohnung-kaufen/seite-33  scraped values: 15\n",
      "https://www.immobilienscout24.at/regional/wien/wien/wohnung-kaufen/seite-34  scraped values: 15\n",
      "https://www.immobilienscout24.at/regional/wien/wien/wohnung-kaufen/seite-35  scraped values: 15\n",
      "https://www.immobilienscout24.at/regional/wien/wien/wohnung-kaufen/seite-36  scraped values: 15\n",
      "https://www.immobilienscout24.at/regional/wien/wien/wohnung-kaufen/seite-37  scraped values: 15\n",
      "https://www.immobilienscout24.at/regional/wien/wien/wohnung-kaufen/seite-38  scraped values: 15\n",
      "https://www.immobilienscout24.at/regional/wien/wien/wohnung-kaufen/seite-39  scraped values: 15\n",
      "https://www.immobilienscout24.at/regional/wien/wien/wohnung-kaufen/seite-40  scraped values: 15\n",
      "https://www.immobilienscout24.at/regional/wien/wien/wohnung-kaufen/seite-41  scraped values: 14\n"
     ]
    }
   ],
   "source": [
    "i = 1\n",
    "url = \"\"\n",
    "prices = []\n",
    "while True:\n",
    "    if i == 1:\n",
    "        url = 'https://www.immobilienscout24.at/regional/wien/wien/wohnung-kaufen'\n",
    "    else:\n",
    "        url = f'https://www.immobilienscout24.at/regional/wien/wien/wohnung-kaufen/seite-{i}'\n",
    "\n",
    "    r = requests.get(url)\n",
    "    soup = BeautifulSoup(r.text, 'html.parser')\n",
    "    postings = soup.find_all('li', {'class': 'Item-item-S33'})\n",
    "    i += 1\n",
    "    scraped_vals = 0\n",
    "    for ele in postings:\n",
    "        for ele2 in (ele.select('a > section > section:nth-of-type(2) > ul:nth-of-type(1) > li:nth-of-type(2)')):\n",
    "            prices.append(ele2.getText())\n",
    "            scraped_vals += 1\n",
    "    if postings == []:\n",
    "        break;\n",
    "\n",
    "    print(url,' scraped values:',scraped_vals)"
   ]
  },
  {
   "cell_type": "markdown",
   "id": "43324bc0-9482-452e-8e07-da0460a62d2a",
   "metadata": {},
   "source": [
    "The scraped values get converted in a pandas dataFrame."
   ]
  },
  {
   "cell_type": "code",
   "execution_count": 184,
   "id": "119d39b0-c19a-4baf-8469-a618c0f599e7",
   "metadata": {},
   "outputs": [
    {
     "data": {
      "text/html": [
       "<div>\n",
       "<style scoped>\n",
       "    .dataframe tbody tr th:only-of-type {\n",
       "        vertical-align: middle;\n",
       "    }\n",
       "\n",
       "    .dataframe tbody tr th {\n",
       "        vertical-align: top;\n",
       "    }\n",
       "\n",
       "    .dataframe thead th {\n",
       "        text-align: right;\n",
       "    }\n",
       "</style>\n",
       "<table border=\"1\" class=\"dataframe\">\n",
       "  <thead>\n",
       "    <tr style=\"text-align: right;\">\n",
       "      <th></th>\n",
       "      <th>vals</th>\n",
       "    </tr>\n",
       "  </thead>\n",
       "  <tbody>\n",
       "    <tr>\n",
       "      <th>0</th>\n",
       "      <td>ab 5.171,14 €/m²</td>\n",
       "    </tr>\n",
       "    <tr>\n",
       "      <th>1</th>\n",
       "      <td>ab 9.427,37 €/m²</td>\n",
       "    </tr>\n",
       "    <tr>\n",
       "      <th>2</th>\n",
       "      <td>ab 6.183,49 €/m²</td>\n",
       "    </tr>\n",
       "    <tr>\n",
       "      <th>3</th>\n",
       "      <td>ab 5.320,22 €/m²</td>\n",
       "    </tr>\n",
       "    <tr>\n",
       "      <th>4</th>\n",
       "      <td>ab 9.502,56 €/m²</td>\n",
       "    </tr>\n",
       "    <tr>\n",
       "      <th>5</th>\n",
       "      <td>ab 8.353,58 €/m²</td>\n",
       "    </tr>\n",
       "    <tr>\n",
       "      <th>6</th>\n",
       "      <td>ab 5.783,84 €/m²</td>\n",
       "    </tr>\n",
       "    <tr>\n",
       "      <th>7</th>\n",
       "      <td>ab 7.560,66 €/m²</td>\n",
       "    </tr>\n",
       "    <tr>\n",
       "      <th>8</th>\n",
       "      <td>ab 6.346,5 €/m²</td>\n",
       "    </tr>\n",
       "    <tr>\n",
       "      <th>9</th>\n",
       "      <td>ab 7.591,67 €/m²</td>\n",
       "    </tr>\n",
       "  </tbody>\n",
       "</table>\n",
       "</div>"
      ],
      "text/plain": [
       "               vals\n",
       "0  ab 5.171,14 €/m²\n",
       "1  ab 9.427,37 €/m²\n",
       "2  ab 6.183,49 €/m²\n",
       "3  ab 5.320,22 €/m²\n",
       "4  ab 9.502,56 €/m²\n",
       "5  ab 8.353,58 €/m²\n",
       "6  ab 5.783,84 €/m²\n",
       "7  ab 7.560,66 €/m²\n",
       "8   ab 6.346,5 €/m²\n",
       "9  ab 7.591,67 €/m²"
      ]
     },
     "execution_count": 184,
     "metadata": {},
     "output_type": "execute_result"
    }
   ],
   "source": [
    "export_dict = {'vals':prices}\n",
    "export_df = pd.DataFrame(export_dict)\n",
    "export_df.head(10)"
   ]
  },
  {
   "cell_type": "markdown",
   "id": "f09eab1c-5b08-4966-bc3d-d08ab2c81751",
   "metadata": {},
   "source": [
    "Looks good, but for further processing we just need the values."
   ]
  },
  {
   "cell_type": "code",
   "execution_count": 185,
   "id": "958292d7-3b74-4020-ada7-2547ed81cc41",
   "metadata": {},
   "outputs": [
    {
     "data": {
      "text/html": [
       "<div>\n",
       "<style scoped>\n",
       "    .dataframe tbody tr th:only-of-type {\n",
       "        vertical-align: middle;\n",
       "    }\n",
       "\n",
       "    .dataframe tbody tr th {\n",
       "        vertical-align: top;\n",
       "    }\n",
       "\n",
       "    .dataframe thead th {\n",
       "        text-align: right;\n",
       "    }\n",
       "</style>\n",
       "<table border=\"1\" class=\"dataframe\">\n",
       "  <thead>\n",
       "    <tr style=\"text-align: right;\">\n",
       "      <th></th>\n",
       "      <th>vals</th>\n",
       "    </tr>\n",
       "  </thead>\n",
       "  <tbody>\n",
       "    <tr>\n",
       "      <th>0</th>\n",
       "      <td>5.171,14</td>\n",
       "    </tr>\n",
       "    <tr>\n",
       "      <th>1</th>\n",
       "      <td>9.427,37</td>\n",
       "    </tr>\n",
       "    <tr>\n",
       "      <th>2</th>\n",
       "      <td>6.183,49</td>\n",
       "    </tr>\n",
       "    <tr>\n",
       "      <th>3</th>\n",
       "      <td>5.320,22</td>\n",
       "    </tr>\n",
       "    <tr>\n",
       "      <th>4</th>\n",
       "      <td>9.502,56</td>\n",
       "    </tr>\n",
       "    <tr>\n",
       "      <th>5</th>\n",
       "      <td>8.353,58</td>\n",
       "    </tr>\n",
       "    <tr>\n",
       "      <th>6</th>\n",
       "      <td>5.783,84</td>\n",
       "    </tr>\n",
       "    <tr>\n",
       "      <th>7</th>\n",
       "      <td>7.560,66</td>\n",
       "    </tr>\n",
       "    <tr>\n",
       "      <th>8</th>\n",
       "      <td>6.346,5</td>\n",
       "    </tr>\n",
       "    <tr>\n",
       "      <th>9</th>\n",
       "      <td>7.591,67</td>\n",
       "    </tr>\n",
       "  </tbody>\n",
       "</table>\n",
       "</div>"
      ],
      "text/plain": [
       "       vals\n",
       "0  5.171,14\n",
       "1  9.427,37\n",
       "2  6.183,49\n",
       "3  5.320,22\n",
       "4  9.502,56\n",
       "5  8.353,58\n",
       "6  5.783,84\n",
       "7  7.560,66\n",
       "8   6.346,5\n",
       "9  7.591,67"
      ]
     },
     "execution_count": 185,
     "metadata": {},
     "output_type": "execute_result"
    }
   ],
   "source": [
    "export_df = export_df.replace('ab','',regex = True)\n",
    "export_df = export_df.replace('€/m²','',regex = True)\n",
    "export_df = export_df.replace(' ','',regex = True)\n",
    "export_df.head(10)"
   ]
  },
  {
   "cell_type": "markdown",
   "id": "d8fcd7b3-a4f8-424d-9220-0f78153ca789",
   "metadata": {},
   "source": [
    "Now the format has to be adapted."
   ]
  },
  {
   "cell_type": "code",
   "execution_count": 186,
   "id": "6e952568-f21b-433d-a77e-0585ccf766dd",
   "metadata": {},
   "outputs": [
    {
     "name": "stderr",
     "output_type": "stream",
     "text": [
      "C:\\Users\\marku\\AppData\\Local\\Temp\\ipykernel_8788\\1430330772.py:1: FutureWarning: The default value of regex will change from True to False in a future version. In addition, single character regular expressions will *not* be treated as literal strings when regex=True.\n",
      "  export_df = export_df.apply(lambda x: x.str.replace('.',''))\n"
     ]
    },
    {
     "data": {
      "text/html": [
       "<div>\n",
       "<style scoped>\n",
       "    .dataframe tbody tr th:only-of-type {\n",
       "        vertical-align: middle;\n",
       "    }\n",
       "\n",
       "    .dataframe tbody tr th {\n",
       "        vertical-align: top;\n",
       "    }\n",
       "\n",
       "    .dataframe thead th {\n",
       "        text-align: right;\n",
       "    }\n",
       "</style>\n",
       "<table border=\"1\" class=\"dataframe\">\n",
       "  <thead>\n",
       "    <tr style=\"text-align: right;\">\n",
       "      <th></th>\n",
       "      <th>vals</th>\n",
       "    </tr>\n",
       "  </thead>\n",
       "  <tbody>\n",
       "    <tr>\n",
       "      <th>0</th>\n",
       "      <td>5171.14</td>\n",
       "    </tr>\n",
       "    <tr>\n",
       "      <th>1</th>\n",
       "      <td>9427.37</td>\n",
       "    </tr>\n",
       "    <tr>\n",
       "      <th>2</th>\n",
       "      <td>6183.49</td>\n",
       "    </tr>\n",
       "    <tr>\n",
       "      <th>3</th>\n",
       "      <td>5320.22</td>\n",
       "    </tr>\n",
       "    <tr>\n",
       "      <th>4</th>\n",
       "      <td>9502.56</td>\n",
       "    </tr>\n",
       "    <tr>\n",
       "      <th>5</th>\n",
       "      <td>8353.58</td>\n",
       "    </tr>\n",
       "    <tr>\n",
       "      <th>6</th>\n",
       "      <td>5783.84</td>\n",
       "    </tr>\n",
       "    <tr>\n",
       "      <th>7</th>\n",
       "      <td>7560.66</td>\n",
       "    </tr>\n",
       "    <tr>\n",
       "      <th>8</th>\n",
       "      <td>6346.5</td>\n",
       "    </tr>\n",
       "    <tr>\n",
       "      <th>9</th>\n",
       "      <td>7591.67</td>\n",
       "    </tr>\n",
       "  </tbody>\n",
       "</table>\n",
       "</div>"
      ],
      "text/plain": [
       "      vals\n",
       "0  5171.14\n",
       "1  9427.37\n",
       "2  6183.49\n",
       "3  5320.22\n",
       "4  9502.56\n",
       "5  8353.58\n",
       "6  5783.84\n",
       "7  7560.66\n",
       "8   6346.5\n",
       "9  7591.67"
      ]
     },
     "execution_count": 186,
     "metadata": {},
     "output_type": "execute_result"
    }
   ],
   "source": [
    "export_df = export_df.apply(lambda x: x.str.replace('.',''))\n",
    "export_df = export_df.apply(lambda x: x.str.replace(',','.'))\n",
    "export_df.head(10)"
   ]
  },
  {
   "cell_type": "markdown",
   "id": "32b12dd9-4a67-488e-bf58-06bbd05b66b1",
   "metadata": {},
   "source": [
    "Most of the values look good. However, wile scarping we also got some value which can not be further processed."
   ]
  },
  {
   "cell_type": "code",
   "execution_count": 187,
   "id": "848c52a0-1983-4242-b179-a920246515c7",
   "metadata": {},
   "outputs": [
    {
     "data": {
      "text/html": [
       "<div>\n",
       "<style scoped>\n",
       "    .dataframe tbody tr th:only-of-type {\n",
       "        vertical-align: middle;\n",
       "    }\n",
       "\n",
       "    .dataframe tbody tr th {\n",
       "        vertical-align: top;\n",
       "    }\n",
       "\n",
       "    .dataframe thead th {\n",
       "        text-align: right;\n",
       "    }\n",
       "</style>\n",
       "<table border=\"1\" class=\"dataframe\">\n",
       "  <thead>\n",
       "    <tr style=\"text-align: right;\">\n",
       "      <th></th>\n",
       "      <th>vals</th>\n",
       "    </tr>\n",
       "  </thead>\n",
       "  <tbody>\n",
       "    <tr>\n",
       "      <th>185</th>\n",
       "      <td>statt620000€-6%</td>\n",
       "    </tr>\n",
       "    <tr>\n",
       "      <th>393</th>\n",
       "      <td>statt3100000€-5%</td>\n",
       "    </tr>\n",
       "    <tr>\n",
       "      <th>527</th>\n",
       "      <td>statt749000€-7%</td>\n",
       "    </tr>\n",
       "    <tr>\n",
       "      <th>553</th>\n",
       "      <td>statt215000€-7%</td>\n",
       "    </tr>\n",
       "  </tbody>\n",
       "</table>\n",
       "</div>"
      ],
      "text/plain": [
       "                 vals\n",
       "185   statt620000€-6%\n",
       "393  statt3100000€-5%\n",
       "527   statt749000€-7%\n",
       "553   statt215000€-7%"
      ]
     },
     "execution_count": 187,
     "metadata": {},
     "output_type": "execute_result"
    }
   ],
   "source": [
    "export_df[export_df['vals'].str.startswith('statt')]"
   ]
  },
  {
   "cell_type": "markdown",
   "id": "69685b24-43be-4a96-88ef-0fab1918db24",
   "metadata": {},
   "source": [
    "These values get deleted."
   ]
  },
  {
   "cell_type": "code",
   "execution_count": 188,
   "id": "77f94e49-dc79-4142-9acf-b8945c728d93",
   "metadata": {},
   "outputs": [],
   "source": [
    "export_df = export_df.drop([185,393,527,553])"
   ]
  },
  {
   "cell_type": "markdown",
   "id": "08d40c07-074f-44b5-ad8a-cba901e7c0f9",
   "metadata": {},
   "source": [
    "Now the value look good and are ready to be exported for later processing."
   ]
  },
  {
   "cell_type": "code",
   "execution_count": 189,
   "id": "54b2ab80-2a8f-490a-9c3b-9bd718bf865f",
   "metadata": {},
   "outputs": [],
   "source": [
    "export_df.to_csv('out.csv', index=False)  "
   ]
  }
 ],
 "metadata": {
  "kernelspec": {
   "display_name": "Python 3 (ipykernel)",
   "language": "python",
   "name": "python3"
  },
  "language_info": {
   "codemirror_mode": {
    "name": "ipython",
    "version": 3
   },
   "file_extension": ".py",
   "mimetype": "text/x-python",
   "name": "python",
   "nbconvert_exporter": "python",
   "pygments_lexer": "ipython3",
   "version": "3.11.7"
  }
 },
 "nbformat": 4,
 "nbformat_minor": 5
}
