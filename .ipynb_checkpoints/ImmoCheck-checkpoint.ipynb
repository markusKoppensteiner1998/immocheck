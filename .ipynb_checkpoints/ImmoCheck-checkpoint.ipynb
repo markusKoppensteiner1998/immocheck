{
 "cells": [
  {
   "cell_type": "markdown",
   "id": "702bdea7-1310-42f1-be73-0c2e35a44abd",
   "metadata": {},
   "source": [
    "# ImmoCheck"
   ]
  },
  {
   "cell_type": "markdown",
   "id": "b6af1b57-b3fd-440a-891c-d3f55763f392",
   "metadata": {},
   "source": [
    "This projects purpose is to give an overview how rent and buying prices of real estate changed in vienna over the last years. Therefore certain steps are taken. First of all data gets imported and gathered through different sources. Futher cleaning and stucturing will also be apllied. The main parts like data explanation, analysis and also visulations for better understanding will give you a better understanding on the topic. In the last part, conslusions will be drwan. The cleaned and stuctured data will also be provided as csv files. \\\n",
    "Let's get started!"
   ]
  },
  {
   "cell_type": "markdown",
   "id": "76e42bf8-c0b4-4ec9-8818-8f8d16ee5fcf",
   "metadata": {},
   "source": [
    "## Imports"
   ]
  },
  {
   "cell_type": "code",
   "execution_count": 47,
   "id": "648254db-eaee-408e-88b3-ecdd142e091e",
   "metadata": {},
   "outputs": [],
   "source": [
    "import requests\n",
    "from bs4 import BeautifulSoup\n",
    "import pandas as pd\n",
    "from pyspark.sql import SparkSession\n",
    "from pyspark.sql.functions import max, median, round\n",
    "import pyspark "
   ]
  },
  {
   "cell_type": "markdown",
   "id": "7fde09d7-6722-4f26-82dc-0fe097aaf63f",
   "metadata": {},
   "source": [
    "## Data Gathering"
   ]
  },
  {
   "cell_type": "markdown",
   "id": "94dacc13-386d-4b04-8060-8bb5bb91e73e",
   "metadata": {},
   "source": [
    "There will be four different sources of data. One Webscarping, one API and two files."
   ]
  },
  {
   "cell_type": "markdown",
   "id": "f16cda68-d147-4f4f-a689-1b8d7e821dc2",
   "metadata": {},
   "source": [
    "### Webscarping - Cost of real estate"
   ]
  },
  {
   "cell_type": "markdown",
   "id": "0110f48c-b149-4b71-93d5-51f3fd035662",
   "metadata": {},
   "source": [
    "To get data regarding current costs of real estate, data from the webside \"Immobilienscout24.at\" will be scraped."
   ]
  },
  {
   "cell_type": "code",
   "execution_count": 163,
   "id": "8b0b7ba5-dd2f-40ea-80b6-232cf7efa36f",
   "metadata": {},
   "outputs": [
    {
     "name": "stdout",
     "output_type": "stream",
     "text": [
      "https://www.immobilienscout24.at/regional/wien/wien/wohnung-kaufen  scraped values: 13\n",
      "https://www.immobilienscout24.at/regional/wien/wien/wohnung-kaufen/seite-2  scraped values: 15\n",
      "https://www.immobilienscout24.at/regional/wien/wien/wohnung-kaufen/seite-3  scraped values: 14\n",
      "https://www.immobilienscout24.at/regional/wien/wien/wohnung-kaufen/seite-4  scraped values: 15\n",
      "https://www.immobilienscout24.at/regional/wien/wien/wohnung-kaufen/seite-5  scraped values: 15\n",
      "https://www.immobilienscout24.at/regional/wien/wien/wohnung-kaufen/seite-6  scraped values: 12\n",
      "https://www.immobilienscout24.at/regional/wien/wien/wohnung-kaufen/seite-7  scraped values: 14\n",
      "https://www.immobilienscout24.at/regional/wien/wien/wohnung-kaufen/seite-8  scraped values: 15\n",
      "https://www.immobilienscout24.at/regional/wien/wien/wohnung-kaufen/seite-9  scraped values: 15\n",
      "https://www.immobilienscout24.at/regional/wien/wien/wohnung-kaufen/seite-10  scraped values: 15\n",
      "https://www.immobilienscout24.at/regional/wien/wien/wohnung-kaufen/seite-11  scraped values: 14\n",
      "https://www.immobilienscout24.at/regional/wien/wien/wohnung-kaufen/seite-12  scraped values: 13\n",
      "https://www.immobilienscout24.at/regional/wien/wien/wohnung-kaufen/seite-13  scraped values: 15\n",
      "https://www.immobilienscout24.at/regional/wien/wien/wohnung-kaufen/seite-14  scraped values: 14\n",
      "https://www.immobilienscout24.at/regional/wien/wien/wohnung-kaufen/seite-15  scraped values: 4\n",
      "https://www.immobilienscout24.at/regional/wien/wien/wohnung-kaufen/seite-16  scraped values: 15\n",
      "https://www.immobilienscout24.at/regional/wien/wien/wohnung-kaufen/seite-17  scraped values: 15\n",
      "https://www.immobilienscout24.at/regional/wien/wien/wohnung-kaufen/seite-18  scraped values: 15\n",
      "https://www.immobilienscout24.at/regional/wien/wien/wohnung-kaufen/seite-19  scraped values: 14\n",
      "https://www.immobilienscout24.at/regional/wien/wien/wohnung-kaufen/seite-20  scraped values: 14\n",
      "https://www.immobilienscout24.at/regional/wien/wien/wohnung-kaufen/seite-21  scraped values: 15\n",
      "https://www.immobilienscout24.at/regional/wien/wien/wohnung-kaufen/seite-22  scraped values: 15\n",
      "https://www.immobilienscout24.at/regional/wien/wien/wohnung-kaufen/seite-23  scraped values: 15\n",
      "https://www.immobilienscout24.at/regional/wien/wien/wohnung-kaufen/seite-24  scraped values: 15\n",
      "https://www.immobilienscout24.at/regional/wien/wien/wohnung-kaufen/seite-25  scraped values: 15\n",
      "https://www.immobilienscout24.at/regional/wien/wien/wohnung-kaufen/seite-26  scraped values: 15\n",
      "https://www.immobilienscout24.at/regional/wien/wien/wohnung-kaufen/seite-27  scraped values: 15\n",
      "https://www.immobilienscout24.at/regional/wien/wien/wohnung-kaufen/seite-28  scraped values: 15\n",
      "https://www.immobilienscout24.at/regional/wien/wien/wohnung-kaufen/seite-29  scraped values: 15\n",
      "https://www.immobilienscout24.at/regional/wien/wien/wohnung-kaufen/seite-30  scraped values: 15\n",
      "https://www.immobilienscout24.at/regional/wien/wien/wohnung-kaufen/seite-31  scraped values: 13\n",
      "https://www.immobilienscout24.at/regional/wien/wien/wohnung-kaufen/seite-32  scraped values: 13\n",
      "https://www.immobilienscout24.at/regional/wien/wien/wohnung-kaufen/seite-33  scraped values: 15\n",
      "https://www.immobilienscout24.at/regional/wien/wien/wohnung-kaufen/seite-34  scraped values: 15\n",
      "https://www.immobilienscout24.at/regional/wien/wien/wohnung-kaufen/seite-35  scraped values: 15\n",
      "https://www.immobilienscout24.at/regional/wien/wien/wohnung-kaufen/seite-36  scraped values: 15\n",
      "https://www.immobilienscout24.at/regional/wien/wien/wohnung-kaufen/seite-37  scraped values: 15\n",
      "https://www.immobilienscout24.at/regional/wien/wien/wohnung-kaufen/seite-38  scraped values: 15\n",
      "https://www.immobilienscout24.at/regional/wien/wien/wohnung-kaufen/seite-39  scraped values: 15\n",
      "https://www.immobilienscout24.at/regional/wien/wien/wohnung-kaufen/seite-40  scraped values: 15\n",
      "https://www.immobilienscout24.at/regional/wien/wien/wohnung-kaufen/seite-41  scraped values: 14\n"
     ]
    }
   ],
   "source": [
    "i = 1\n",
    "url = \"\"\n",
    "prices = []\n",
    "while True:\n",
    "    if i == 1:\n",
    "        url = 'https://www.immobilienscout24.at/regional/wien/wien/wohnung-kaufen'\n",
    "    else:\n",
    "        url = f'https://www.immobilienscout24.at/regional/wien/wien/wohnung-kaufen/seite-{i}'\n",
    "\n",
    "    r = requests.get(url)\n",
    "    soup = BeautifulSoup(r.text, 'html.parser')\n",
    "    postings = soup.find_all('li', {'class': 'Item-item-S33'})\n",
    "    i += 1\n",
    "    scraped_vals = 0\n",
    "    for ele in postings:\n",
    "        for ele2 in (ele.select('a > section > section:nth-of-type(2) > ul:nth-of-type(1) > li:nth-of-type(2)')):\n",
    "            prices.append(ele2.getText())\n",
    "            scraped_vals += 1\n",
    "    if postings == []:\n",
    "        break;\n",
    "\n",
    "    print(url,' scraped values:',scraped_vals)"
   ]
  },
  {
   "cell_type": "markdown",
   "id": "43324bc0-9482-452e-8e07-da0460a62d2a",
   "metadata": {},
   "source": [
    "The scraped values get converted in a pandas dataFrame."
   ]
  },
  {
   "cell_type": "code",
   "execution_count": 184,
   "id": "119d39b0-c19a-4baf-8469-a618c0f599e7",
   "metadata": {},
   "outputs": [
    {
     "data": {
      "text/html": [
       "<div>\n",
       "<style scoped>\n",
       "    .dataframe tbody tr th:only-of-type {\n",
       "        vertical-align: middle;\n",
       "    }\n",
       "\n",
       "    .dataframe tbody tr th {\n",
       "        vertical-align: top;\n",
       "    }\n",
       "\n",
       "    .dataframe thead th {\n",
       "        text-align: right;\n",
       "    }\n",
       "</style>\n",
       "<table border=\"1\" class=\"dataframe\">\n",
       "  <thead>\n",
       "    <tr style=\"text-align: right;\">\n",
       "      <th></th>\n",
       "      <th>vals</th>\n",
       "    </tr>\n",
       "  </thead>\n",
       "  <tbody>\n",
       "    <tr>\n",
       "      <th>0</th>\n",
       "      <td>ab 5.171,14 €/m²</td>\n",
       "    </tr>\n",
       "    <tr>\n",
       "      <th>1</th>\n",
       "      <td>ab 9.427,37 €/m²</td>\n",
       "    </tr>\n",
       "    <tr>\n",
       "      <th>2</th>\n",
       "      <td>ab 6.183,49 €/m²</td>\n",
       "    </tr>\n",
       "    <tr>\n",
       "      <th>3</th>\n",
       "      <td>ab 5.320,22 €/m²</td>\n",
       "    </tr>\n",
       "    <tr>\n",
       "      <th>4</th>\n",
       "      <td>ab 9.502,56 €/m²</td>\n",
       "    </tr>\n",
       "    <tr>\n",
       "      <th>5</th>\n",
       "      <td>ab 8.353,58 €/m²</td>\n",
       "    </tr>\n",
       "    <tr>\n",
       "      <th>6</th>\n",
       "      <td>ab 5.783,84 €/m²</td>\n",
       "    </tr>\n",
       "    <tr>\n",
       "      <th>7</th>\n",
       "      <td>ab 7.560,66 €/m²</td>\n",
       "    </tr>\n",
       "    <tr>\n",
       "      <th>8</th>\n",
       "      <td>ab 6.346,5 €/m²</td>\n",
       "    </tr>\n",
       "    <tr>\n",
       "      <th>9</th>\n",
       "      <td>ab 7.591,67 €/m²</td>\n",
       "    </tr>\n",
       "  </tbody>\n",
       "</table>\n",
       "</div>"
      ],
      "text/plain": [
       "               vals\n",
       "0  ab 5.171,14 €/m²\n",
       "1  ab 9.427,37 €/m²\n",
       "2  ab 6.183,49 €/m²\n",
       "3  ab 5.320,22 €/m²\n",
       "4  ab 9.502,56 €/m²\n",
       "5  ab 8.353,58 €/m²\n",
       "6  ab 5.783,84 €/m²\n",
       "7  ab 7.560,66 €/m²\n",
       "8   ab 6.346,5 €/m²\n",
       "9  ab 7.591,67 €/m²"
      ]
     },
     "execution_count": 184,
     "metadata": {},
     "output_type": "execute_result"
    }
   ],
   "source": [
    "export_dict = {'vals':prices}\n",
    "export_df = pd.DataFrame(export_dict)\n",
    "export_df.head(10)"
   ]
  },
  {
   "cell_type": "markdown",
   "id": "f09eab1c-5b08-4966-bc3d-d08ab2c81751",
   "metadata": {},
   "source": [
    "Looks good, but for further processing we just need the values."
   ]
  },
  {
   "cell_type": "code",
   "execution_count": 185,
   "id": "958292d7-3b74-4020-ada7-2547ed81cc41",
   "metadata": {},
   "outputs": [
    {
     "data": {
      "text/html": [
       "<div>\n",
       "<style scoped>\n",
       "    .dataframe tbody tr th:only-of-type {\n",
       "        vertical-align: middle;\n",
       "    }\n",
       "\n",
       "    .dataframe tbody tr th {\n",
       "        vertical-align: top;\n",
       "    }\n",
       "\n",
       "    .dataframe thead th {\n",
       "        text-align: right;\n",
       "    }\n",
       "</style>\n",
       "<table border=\"1\" class=\"dataframe\">\n",
       "  <thead>\n",
       "    <tr style=\"text-align: right;\">\n",
       "      <th></th>\n",
       "      <th>vals</th>\n",
       "    </tr>\n",
       "  </thead>\n",
       "  <tbody>\n",
       "    <tr>\n",
       "      <th>0</th>\n",
       "      <td>5.171,14</td>\n",
       "    </tr>\n",
       "    <tr>\n",
       "      <th>1</th>\n",
       "      <td>9.427,37</td>\n",
       "    </tr>\n",
       "    <tr>\n",
       "      <th>2</th>\n",
       "      <td>6.183,49</td>\n",
       "    </tr>\n",
       "    <tr>\n",
       "      <th>3</th>\n",
       "      <td>5.320,22</td>\n",
       "    </tr>\n",
       "    <tr>\n",
       "      <th>4</th>\n",
       "      <td>9.502,56</td>\n",
       "    </tr>\n",
       "    <tr>\n",
       "      <th>5</th>\n",
       "      <td>8.353,58</td>\n",
       "    </tr>\n",
       "    <tr>\n",
       "      <th>6</th>\n",
       "      <td>5.783,84</td>\n",
       "    </tr>\n",
       "    <tr>\n",
       "      <th>7</th>\n",
       "      <td>7.560,66</td>\n",
       "    </tr>\n",
       "    <tr>\n",
       "      <th>8</th>\n",
       "      <td>6.346,5</td>\n",
       "    </tr>\n",
       "    <tr>\n",
       "      <th>9</th>\n",
       "      <td>7.591,67</td>\n",
       "    </tr>\n",
       "  </tbody>\n",
       "</table>\n",
       "</div>"
      ],
      "text/plain": [
       "       vals\n",
       "0  5.171,14\n",
       "1  9.427,37\n",
       "2  6.183,49\n",
       "3  5.320,22\n",
       "4  9.502,56\n",
       "5  8.353,58\n",
       "6  5.783,84\n",
       "7  7.560,66\n",
       "8   6.346,5\n",
       "9  7.591,67"
      ]
     },
     "execution_count": 185,
     "metadata": {},
     "output_type": "execute_result"
    }
   ],
   "source": [
    "export_df = export_df.replace('ab','',regex = True)\n",
    "export_df = export_df.replace('€/m²','',regex = True)\n",
    "export_df = export_df.replace(' ','',regex = True)\n",
    "export_df.head(10)"
   ]
  },
  {
   "cell_type": "markdown",
   "id": "d8fcd7b3-a4f8-424d-9220-0f78153ca789",
   "metadata": {},
   "source": [
    "Now the format has to be adapted."
   ]
  },
  {
   "cell_type": "code",
   "execution_count": 186,
   "id": "6e952568-f21b-433d-a77e-0585ccf766dd",
   "metadata": {},
   "outputs": [
    {
     "name": "stderr",
     "output_type": "stream",
     "text": [
      "C:\\Users\\marku\\AppData\\Local\\Temp\\ipykernel_8788\\1430330772.py:1: FutureWarning: The default value of regex will change from True to False in a future version. In addition, single character regular expressions will *not* be treated as literal strings when regex=True.\n",
      "  export_df = export_df.apply(lambda x: x.str.replace('.',''))\n"
     ]
    },
    {
     "data": {
      "text/html": [
       "<div>\n",
       "<style scoped>\n",
       "    .dataframe tbody tr th:only-of-type {\n",
       "        vertical-align: middle;\n",
       "    }\n",
       "\n",
       "    .dataframe tbody tr th {\n",
       "        vertical-align: top;\n",
       "    }\n",
       "\n",
       "    .dataframe thead th {\n",
       "        text-align: right;\n",
       "    }\n",
       "</style>\n",
       "<table border=\"1\" class=\"dataframe\">\n",
       "  <thead>\n",
       "    <tr style=\"text-align: right;\">\n",
       "      <th></th>\n",
       "      <th>vals</th>\n",
       "    </tr>\n",
       "  </thead>\n",
       "  <tbody>\n",
       "    <tr>\n",
       "      <th>0</th>\n",
       "      <td>5171.14</td>\n",
       "    </tr>\n",
       "    <tr>\n",
       "      <th>1</th>\n",
       "      <td>9427.37</td>\n",
       "    </tr>\n",
       "    <tr>\n",
       "      <th>2</th>\n",
       "      <td>6183.49</td>\n",
       "    </tr>\n",
       "    <tr>\n",
       "      <th>3</th>\n",
       "      <td>5320.22</td>\n",
       "    </tr>\n",
       "    <tr>\n",
       "      <th>4</th>\n",
       "      <td>9502.56</td>\n",
       "    </tr>\n",
       "    <tr>\n",
       "      <th>5</th>\n",
       "      <td>8353.58</td>\n",
       "    </tr>\n",
       "    <tr>\n",
       "      <th>6</th>\n",
       "      <td>5783.84</td>\n",
       "    </tr>\n",
       "    <tr>\n",
       "      <th>7</th>\n",
       "      <td>7560.66</td>\n",
       "    </tr>\n",
       "    <tr>\n",
       "      <th>8</th>\n",
       "      <td>6346.5</td>\n",
       "    </tr>\n",
       "    <tr>\n",
       "      <th>9</th>\n",
       "      <td>7591.67</td>\n",
       "    </tr>\n",
       "  </tbody>\n",
       "</table>\n",
       "</div>"
      ],
      "text/plain": [
       "      vals\n",
       "0  5171.14\n",
       "1  9427.37\n",
       "2  6183.49\n",
       "3  5320.22\n",
       "4  9502.56\n",
       "5  8353.58\n",
       "6  5783.84\n",
       "7  7560.66\n",
       "8   6346.5\n",
       "9  7591.67"
      ]
     },
     "execution_count": 186,
     "metadata": {},
     "output_type": "execute_result"
    }
   ],
   "source": [
    "export_df = export_df.apply(lambda x: x.str.replace('.',''))\n",
    "export_df = export_df.apply(lambda x: x.str.replace(',','.'))\n",
    "export_df.head(10)"
   ]
  },
  {
   "cell_type": "markdown",
   "id": "32b12dd9-4a67-488e-bf58-06bbd05b66b1",
   "metadata": {},
   "source": [
    "Most of the values look good. However, wile scarping we also got some value which can not be further processed."
   ]
  },
  {
   "cell_type": "code",
   "execution_count": 187,
   "id": "848c52a0-1983-4242-b179-a920246515c7",
   "metadata": {},
   "outputs": [
    {
     "data": {
      "text/html": [
       "<div>\n",
       "<style scoped>\n",
       "    .dataframe tbody tr th:only-of-type {\n",
       "        vertical-align: middle;\n",
       "    }\n",
       "\n",
       "    .dataframe tbody tr th {\n",
       "        vertical-align: top;\n",
       "    }\n",
       "\n",
       "    .dataframe thead th {\n",
       "        text-align: right;\n",
       "    }\n",
       "</style>\n",
       "<table border=\"1\" class=\"dataframe\">\n",
       "  <thead>\n",
       "    <tr style=\"text-align: right;\">\n",
       "      <th></th>\n",
       "      <th>vals</th>\n",
       "    </tr>\n",
       "  </thead>\n",
       "  <tbody>\n",
       "    <tr>\n",
       "      <th>185</th>\n",
       "      <td>statt620000€-6%</td>\n",
       "    </tr>\n",
       "    <tr>\n",
       "      <th>393</th>\n",
       "      <td>statt3100000€-5%</td>\n",
       "    </tr>\n",
       "    <tr>\n",
       "      <th>527</th>\n",
       "      <td>statt749000€-7%</td>\n",
       "    </tr>\n",
       "    <tr>\n",
       "      <th>553</th>\n",
       "      <td>statt215000€-7%</td>\n",
       "    </tr>\n",
       "  </tbody>\n",
       "</table>\n",
       "</div>"
      ],
      "text/plain": [
       "                 vals\n",
       "185   statt620000€-6%\n",
       "393  statt3100000€-5%\n",
       "527   statt749000€-7%\n",
       "553   statt215000€-7%"
      ]
     },
     "execution_count": 187,
     "metadata": {},
     "output_type": "execute_result"
    }
   ],
   "source": [
    "export_df[export_df['vals'].str.startswith('statt')]"
   ]
  },
  {
   "cell_type": "markdown",
   "id": "69685b24-43be-4a96-88ef-0fab1918db24",
   "metadata": {},
   "source": [
    "These values get deleted."
   ]
  },
  {
   "cell_type": "code",
   "execution_count": 188,
   "id": "77f94e49-dc79-4142-9acf-b8945c728d93",
   "metadata": {},
   "outputs": [],
   "source": [
    "export_df = export_df.drop([185,393,527,553])"
   ]
  },
  {
   "cell_type": "markdown",
   "id": "08d40c07-074f-44b5-ad8a-cba901e7c0f9",
   "metadata": {},
   "source": [
    "Now the value look good and are ready to be exported for later processing."
   ]
  },
  {
   "cell_type": "code",
   "execution_count": null,
   "id": "2c1efa4c-a30c-46dd-a7c2-c55ffdea317e",
   "metadata": {},
   "outputs": [],
   "source": [
    "export_df.to_csv('./exports/prices.csv', index=False)  "
   ]
  },
  {
   "cell_type": "markdown",
   "id": "af82dc93-69d2-43ea-88ec-f84bfe57c154",
   "metadata": {},
   "source": [
    "### Excel Import - Cost of real estate"
   ]
  },
  {
   "cell_type": "code",
   "execution_count": null,
   "id": "914884f2-f11b-48f2-a6d4-ddfb965a6958",
   "metadata": {},
   "outputs": [],
   "source": [
    "Excel importieren (bzw .ods weiß grad nicht was das war). Erklärung was für daten das sind, von wann, und die gewollten Daten anzeigen"
   ]
  },
  {
   "cell_type": "markdown",
   "id": "bb1ebc5d-d375-4f9a-ac9f-c7e0b907122d",
   "metadata": {},
   "source": [
    "### REST API - Bevölerungsdaten"
   ]
  },
  {
   "cell_type": "markdown",
   "id": "196c6254-6b95-4fb3-a435-a8a63766d5ba",
   "metadata": {},
   "source": [
    "API anzapfen und Daten aufbereiten, dass man sie verwenden kann --> schauts einfach im big data infr projekt. Aber wir brauchen hald nur WIEN!!"
   ]
  },
  {
   "cell_type": "markdown",
   "id": "4afea62f-9882-4e8d-9d7c-7c9245b67893",
   "metadata": {},
   "source": [
    "## Source Data Analysis"
   ]
  },
  {
   "cell_type": "markdown",
   "id": "01106a69-5024-4d73-a3ff-40f23c315517",
   "metadata": {},
   "source": [
    "We now have gathered information of our four different datasources. Before comparing those to each other, we want to analyse each for itself. Due to that, we want to achieve a better understanding."
   ]
  },
  {
   "cell_type": "markdown",
   "id": "3fa74c0e-84a0-4800-b9bb-f37b757d69b3",
   "metadata": {},
   "source": [
    "### Cost of real estate (Webscraping)"
   ]
  },
  {
   "cell_type": "markdown",
   "id": "a1a7d220-58d4-4732-9b62-a7eb1e6c4559",
   "metadata": {},
   "source": [
    "\n",
    "To get a deeper understanding of the data we want to take advantage of a visualation. Therefore, we need to load the already structered and cleaned data again."
   ]
  },
  {
   "cell_type": "code",
   "execution_count": 8,
   "id": "5b047bd7-c3bd-42db-b072-9521d33882ce",
   "metadata": {},
   "outputs": [
    {
     "name": "stdout",
     "output_type": "stream",
     "text": [
      "DataFrame[vals: string]\n",
      "+-------+\n",
      "|   vals|\n",
      "+-------+\n",
      "|5171.14|\n",
      "|9427.37|\n",
      "|6183.49|\n",
      "|5320.22|\n",
      "|9502.56|\n",
      "+-------+\n",
      "only showing top 5 rows\n",
      "\n"
     ]
    }
   ],
   "source": [
    "spark = SparkSession \\\n",
    "    .builder \\\n",
    "    .appName(\"ImmoCheck\") \\\n",
    "    .getOrCreate()\n",
    "df = spark.read.csv(\"./exports/prices.csv\",header = True)\n",
    "print(df)\n",
    "df.show(5)"
   ]
  },
  {
   "cell_type": "markdown",
   "id": "36da4942-df9c-4f28-be52-58f317a105d8",
   "metadata": {},
   "source": [
    "The values are loaded. However we have to set the type to float, for using visulations."
   ]
  },
  {
   "cell_type": "code",
   "execution_count": 9,
   "id": "cf0b1883-828f-4f5e-b447-0038a20287d3",
   "metadata": {},
   "outputs": [
    {
     "data": {
      "text/plain": [
       "DataFrame[vals: float]"
      ]
     },
     "execution_count": 9,
     "metadata": {},
     "output_type": "execute_result"
    }
   ],
   "source": [
    "df = df.withColumn(\"vals\", df[\"vals\"].cast(\"float\"))\n",
    "df"
   ]
  },
  {
   "cell_type": "code",
   "execution_count": 34,
   "id": "da4d3d9f-63f7-422b-a815-2f0ac71f53dc",
   "metadata": {},
   "outputs": [
    {
     "data": {
      "text/plain": [
       "<Axes: >"
      ]
     },
     "execution_count": 34,
     "metadata": {},
     "output_type": "execute_result"
    },
    {
     "data": {
      "image/png": "[encoded data removed]",
      "text/plain": [
       "<Figure size 640x480 with 1 Axes>"
      ]
     },
     "metadata": {},
     "output_type": "display_data"
    }
   ],
   "source": [
    "df_p = df.select('*').toPandas()\n",
    "df_p.dtypes\n",
    "df_p['vals'] = df_p['vals'].astype('float64')\n",
    "df_p[\"vals\"].plot.box()  "
   ]
  },
  {
   "cell_type": "markdown",
   "id": "55a0f4c3-b560-4849-9c15-10677534cde6",
   "metadata": {},
   "source": [
    "As we see, there is one outlier, which makes reading the boxplot very hard. So for this visualization, we will ignore this value. (However, it will remain for further processing)"
   ]
  },
  {
   "cell_type": "code",
   "execution_count": 27,
   "id": "2bfe9ddc-cf23-4ac6-be8f-75c23583704c",
   "metadata": {},
   "outputs": [
    {
     "name": "stdout",
     "output_type": "stream",
     "text": [
      "+---------+\n",
      "|max(vals)|\n",
      "+---------+\n",
      "| 325000.0|\n",
      "+---------+\n",
      "\n"
     ]
    }
   ],
   "source": [
    "df.select(max('vals')).show()"
   ]
  },
  {
   "cell_type": "code",
   "execution_count": 39,
   "id": "9befc7d3-50dc-4778-b889-4a2d1c964977",
   "metadata": {},
   "outputs": [],
   "source": [
    "df_boxplot = df.where(df.vals!= 325000)"
   ]
  },
  {
   "cell_type": "code",
   "execution_count": 41,
   "id": "6c1d1f75-e1b4-48aa-9699-1349cb59cfc5",
   "metadata": {},
   "outputs": [
    {
     "data": {
      "text/plain": [
       "<Axes: >"
      ]
     },
     "execution_count": 41,
     "metadata": {},
     "output_type": "execute_result"
    },
    {
     "data": {
      "image/png": "[encoded data removed]",
      "text/plain": [
       "<Figure size 640x480 with 1 Axes>"
      ]
     },
     "metadata": {},
     "output_type": "display_data"
    }
   ],
   "source": [
    "df_p = df_boxplot.select('*').toPandas()\n",
    "df_p.dtypes\n",
    "df_p['vals'] = df_p['vals'].astype('float64')\n",
    "df_p[\"vals\"].plot.box()  "
   ]
  },
  {
   "cell_type": "markdown",
   "id": "8b1e18ae-c2fb-4f7c-a8ec-f539f6dc8540",
   "metadata": {},
   "source": [
    "Most of the values are between the lower 4 digits (around 1500) and 15000. The median is slightly under 10000. \n",
    "However, it is notable, that there are several values outside of the inner fence. It seems like that there is no limit at the upper end. (Especially if we also take the one value in consideration, which we igbored for this visualization.)"
   ]
  },
  {
   "cell_type": "code",
   "execution_count": 49,
   "id": "71f30ccf-41fb-4604-94cc-0e872da2a365",
   "metadata": {},
   "outputs": [
    {
     "name": "stdout",
     "output_type": "stream",
     "text": [
      "+----------------------+\n",
      "|round(median(vals), 0)|\n",
      "+----------------------+\n",
      "|                7028.0|\n",
      "+----------------------+\n",
      "\n"
     ]
    }
   ],
   "source": [
    "df_median = df.select(round(median('vals'))).show()"
   ]
  },
  {
   "cell_type": "markdown",
   "id": "179eab22-4896-4c08-a002-a5bf61eb9c42",
   "metadata": {},
   "source": [
    "The value of the median of our data set is 7028 per square meter."
   ]
  },
  {
   "cell_type": "markdown",
   "id": "3e07fbb5-2bc8-4496-92f2-265b9c17667f",
   "metadata": {},
   "source": [
    "### REST API (Bevölkerungsdaten)"
   ]
  },
  {
   "cell_type": "markdown",
   "id": "2098d28f-c015-4c9c-b16c-b6d74caedff4",
   "metadata": {},
   "source": [
    "deskeptive analyse von den Daten, in einem Plot darstellen und hald erklären, wie sich die Daten verändern haben. absolut und prozentuell. "
   ]
  },
  {
   "cell_type": "markdown",
   "id": "ced4de83-744e-4eb4-9cc0-75c00f1d0b0e",
   "metadata": {},
   "source": [
    "## Gerneral Analysis"
   ]
  },
  {
   "cell_type": "markdown",
   "id": "d57191be-3ff4-4264-a155-d75d93b67586",
   "metadata": {},
   "source": [
    "### Cost of real estate (2015 - 2024)"
   ]
  },
  {
   "cell_type": "markdown",
   "id": "e770b5e3-61ea-4765-b573-19205aabc79e",
   "metadata": {},
   "source": [
    "hier die Daten aus der Vergangenheit mit den aktuellen Daten verschneiden. EInfach einen plot."
   ]
  },
  {
   "cell_type": "markdown",
   "id": "ef19b879-1a71-4ce4-88c5-f05396e18907",
   "metadata": {},
   "source": [
    "## Comparison with population growth"
   ]
  },
  {
   "cell_type": "markdown",
   "id": "4f0bc9d5-201d-41ab-9fed-49cf9be226a0",
   "metadata": {},
   "source": [
    "hier dann noch abgleich, ob Bevölkerung prozentuell gleich viel gewachsen ist, wie die Preise der Wohnungen pro m2"
   ]
  },
  {
   "cell_type": "markdown",
   "id": "5882d5f6-d28c-4940-8e34-ce6703e0b7ee",
   "metadata": {},
   "source": [
    "## Conclusion"
   ]
  },
  {
   "cell_type": "markdown",
   "id": "e54fb45f-912f-4958-8ae4-a376f178ec29",
   "metadata": {},
   "source": [
    "hier einfach nochmal ergebnisse zusammenfassen in einem text"
   ]
  },
  {
   "cell_type": "markdown",
   "id": "d8f19451-85ad-4476-bbc0-abb3785c1458",
   "metadata": {},
   "source": [
    "## Closing"
   ]
  },
  {
   "cell_type": "code",
   "execution_count": null,
   "id": "0827b40f-74df-4d0f-b73d-00d4166ba1c6",
   "metadata": {},
   "outputs": [],
   "source": [
    "spark.stop()"
   ]
  }
 ],
 "metadata": {
  "kernelspec": {
   "display_name": "Python 3 (ipykernel)",
   "language": "python",
   "name": "python3"
  },
  "language_info": {
   "codemirror_mode": {
    "name": "ipython",
    "version": 3
   },
   "file_extension": ".py",
   "mimetype": "text/x-python",
   "name": "python",
   "nbconvert_exporter": "python",
   "pygments_lexer": "ipython3",
   "version": "3.11.7"
  }
 },
 "nbformat": 4,
 "nbformat_minor": 5
}
